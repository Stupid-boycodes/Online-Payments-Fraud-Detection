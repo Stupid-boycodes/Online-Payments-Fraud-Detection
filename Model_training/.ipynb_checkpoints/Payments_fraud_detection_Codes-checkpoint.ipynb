{
 "cells": [
  {
   "cell_type": "markdown",
   "id": "1cc0e58c-515c-48d1-be58-fec9f55b6f9e",
   "metadata": {},
   "source": [
    "# Online Payments Fraud Detection\n",
    "-----"
   ]
  },
  {
   "cell_type": "markdown",
   "id": "d24b792e-b064-476f-a53c-ab55bd7191bf",
   "metadata": {},
   "source": [
    "**Importing necessary libraries**"
   ]
  },
  {
   "cell_type": "code",
   "execution_count": 100,
   "id": "83822312-c2a2-480a-83ac-4cd87381ac7f",
   "metadata": {},
   "outputs": [],
   "source": [
    "import numpy as np\n",
    "import pandas as pd\n",
    "import matplotlib.pyplot as plt\n",
    "import seaborn as sns\n",
    "from sklearn.preprocessing import LabelEncoder\n",
    "from sklearn.model_selection import train_test_split\n",
    "from sklearn.ensemble import RandomForestClassifier\n",
    "from sklearn.metrics import accuracy_score\n",
    "from sklearn.tree import DecisionTreeClassifier \n",
    "from sklearn.tree import ExtraTreeClassifier\n",
    "from sklearn.svm import SVC\n",
    "import xgboost as xgb\n",
    "from sklearn.metrics import f1_score\n",
    "from sklearn.metrics import classification_report, confusion_matrix\n",
    "import warnings \n",
    "import pickle "
   ]
  },
  {
   "cell_type": "code",
   "execution_count": 101,
   "id": "d7974635-1c68-43c4-9046-a64c603edfa3",
   "metadata": {},
   "outputs": [],
   "source": [
    "df_unbalanced = pd.read_csv(r\"C:\\Users\\aarav\\Downloads\\PS_20174392719_1491204439457_log.csv\")"
   ]
  },
  {
   "cell_type": "code",
   "execution_count": 102,
   "id": "8ecdc7a4-7f0d-46c4-b694-9b044a724575",
   "metadata": {},
   "outputs": [
    {
     "data": {
      "text/html": [
       "<div>\n",
       "<style scoped>\n",
       "    .dataframe tbody tr th:only-of-type {\n",
       "        vertical-align: middle;\n",
       "    }\n",
       "\n",
       "    .dataframe tbody tr th {\n",
       "        vertical-align: top;\n",
       "    }\n",
       "\n",
       "    .dataframe thead th {\n",
       "        text-align: right;\n",
       "    }\n",
       "</style>\n",
       "<table border=\"1\" class=\"dataframe\">\n",
       "  <thead>\n",
       "    <tr style=\"text-align: right;\">\n",
       "      <th></th>\n",
       "      <th>step</th>\n",
       "      <th>type</th>\n",
       "      <th>amount</th>\n",
       "      <th>nameOrig</th>\n",
       "      <th>oldbalanceOrg</th>\n",
       "      <th>newbalanceOrig</th>\n",
       "      <th>nameDest</th>\n",
       "      <th>oldbalanceDest</th>\n",
       "      <th>newbalanceDest</th>\n",
       "      <th>isFraud</th>\n",
       "    </tr>\n",
       "  </thead>\n",
       "  <tbody>\n",
       "    <tr>\n",
       "      <th>0</th>\n",
       "      <td>1</td>\n",
       "      <td>PAYMENT</td>\n",
       "      <td>9839.64</td>\n",
       "      <td>C1231006815</td>\n",
       "      <td>170136.00</td>\n",
       "      <td>160296.36</td>\n",
       "      <td>M1979787155</td>\n",
       "      <td>0.00</td>\n",
       "      <td>0.00</td>\n",
       "      <td>0</td>\n",
       "    </tr>\n",
       "    <tr>\n",
       "      <th>1</th>\n",
       "      <td>1</td>\n",
       "      <td>PAYMENT</td>\n",
       "      <td>1864.28</td>\n",
       "      <td>C1666544295</td>\n",
       "      <td>21249.00</td>\n",
       "      <td>19384.72</td>\n",
       "      <td>M2044282225</td>\n",
       "      <td>0.00</td>\n",
       "      <td>0.00</td>\n",
       "      <td>0</td>\n",
       "    </tr>\n",
       "    <tr>\n",
       "      <th>2</th>\n",
       "      <td>1</td>\n",
       "      <td>TRANSFER</td>\n",
       "      <td>181.00</td>\n",
       "      <td>C1305486145</td>\n",
       "      <td>181.00</td>\n",
       "      <td>0.00</td>\n",
       "      <td>C553264065</td>\n",
       "      <td>0.00</td>\n",
       "      <td>0.00</td>\n",
       "      <td>1</td>\n",
       "    </tr>\n",
       "    <tr>\n",
       "      <th>3</th>\n",
       "      <td>1</td>\n",
       "      <td>CASH_OUT</td>\n",
       "      <td>181.00</td>\n",
       "      <td>C840083671</td>\n",
       "      <td>181.00</td>\n",
       "      <td>0.00</td>\n",
       "      <td>C38997010</td>\n",
       "      <td>21182.00</td>\n",
       "      <td>0.00</td>\n",
       "      <td>1</td>\n",
       "    </tr>\n",
       "    <tr>\n",
       "      <th>4</th>\n",
       "      <td>1</td>\n",
       "      <td>PAYMENT</td>\n",
       "      <td>11668.14</td>\n",
       "      <td>C2048537720</td>\n",
       "      <td>41554.00</td>\n",
       "      <td>29885.86</td>\n",
       "      <td>M1230701703</td>\n",
       "      <td>0.00</td>\n",
       "      <td>0.00</td>\n",
       "      <td>0</td>\n",
       "    </tr>\n",
       "    <tr>\n",
       "      <th>...</th>\n",
       "      <td>...</td>\n",
       "      <td>...</td>\n",
       "      <td>...</td>\n",
       "      <td>...</td>\n",
       "      <td>...</td>\n",
       "      <td>...</td>\n",
       "      <td>...</td>\n",
       "      <td>...</td>\n",
       "      <td>...</td>\n",
       "      <td>...</td>\n",
       "    </tr>\n",
       "    <tr>\n",
       "      <th>1048570</th>\n",
       "      <td>95</td>\n",
       "      <td>CASH_OUT</td>\n",
       "      <td>132557.35</td>\n",
       "      <td>C1179511630</td>\n",
       "      <td>479803.00</td>\n",
       "      <td>347245.65</td>\n",
       "      <td>C435674507</td>\n",
       "      <td>484329.37</td>\n",
       "      <td>616886.72</td>\n",
       "      <td>0</td>\n",
       "    </tr>\n",
       "    <tr>\n",
       "      <th>1048571</th>\n",
       "      <td>95</td>\n",
       "      <td>PAYMENT</td>\n",
       "      <td>9917.36</td>\n",
       "      <td>C1956161225</td>\n",
       "      <td>90545.00</td>\n",
       "      <td>80627.64</td>\n",
       "      <td>M668364942</td>\n",
       "      <td>0.00</td>\n",
       "      <td>0.00</td>\n",
       "      <td>0</td>\n",
       "    </tr>\n",
       "    <tr>\n",
       "      <th>1048572</th>\n",
       "      <td>95</td>\n",
       "      <td>PAYMENT</td>\n",
       "      <td>14140.05</td>\n",
       "      <td>C2037964975</td>\n",
       "      <td>20545.00</td>\n",
       "      <td>6404.95</td>\n",
       "      <td>M1355182933</td>\n",
       "      <td>0.00</td>\n",
       "      <td>0.00</td>\n",
       "      <td>0</td>\n",
       "    </tr>\n",
       "    <tr>\n",
       "      <th>1048573</th>\n",
       "      <td>95</td>\n",
       "      <td>PAYMENT</td>\n",
       "      <td>10020.05</td>\n",
       "      <td>C1633237354</td>\n",
       "      <td>90605.00</td>\n",
       "      <td>80584.95</td>\n",
       "      <td>M1964992463</td>\n",
       "      <td>0.00</td>\n",
       "      <td>0.00</td>\n",
       "      <td>0</td>\n",
       "    </tr>\n",
       "    <tr>\n",
       "      <th>1048574</th>\n",
       "      <td>95</td>\n",
       "      <td>PAYMENT</td>\n",
       "      <td>11450.03</td>\n",
       "      <td>C1264356443</td>\n",
       "      <td>80584.95</td>\n",
       "      <td>69134.92</td>\n",
       "      <td>M677577406</td>\n",
       "      <td>0.00</td>\n",
       "      <td>0.00</td>\n",
       "      <td>0</td>\n",
       "    </tr>\n",
       "  </tbody>\n",
       "</table>\n",
       "<p>1048575 rows × 10 columns</p>\n",
       "</div>"
      ],
      "text/plain": [
       "         step      type     amount     nameOrig  oldbalanceOrg  \\\n",
       "0           1   PAYMENT    9839.64  C1231006815      170136.00   \n",
       "1           1   PAYMENT    1864.28  C1666544295       21249.00   \n",
       "2           1  TRANSFER     181.00  C1305486145         181.00   \n",
       "3           1  CASH_OUT     181.00   C840083671         181.00   \n",
       "4           1   PAYMENT   11668.14  C2048537720       41554.00   \n",
       "...       ...       ...        ...          ...            ...   \n",
       "1048570    95  CASH_OUT  132557.35  C1179511630      479803.00   \n",
       "1048571    95   PAYMENT    9917.36  C1956161225       90545.00   \n",
       "1048572    95   PAYMENT   14140.05  C2037964975       20545.00   \n",
       "1048573    95   PAYMENT   10020.05  C1633237354       90605.00   \n",
       "1048574    95   PAYMENT   11450.03  C1264356443       80584.95   \n",
       "\n",
       "         newbalanceOrig     nameDest  oldbalanceDest  newbalanceDest  isFraud  \n",
       "0             160296.36  M1979787155            0.00            0.00        0  \n",
       "1              19384.72  M2044282225            0.00            0.00        0  \n",
       "2                  0.00   C553264065            0.00            0.00        1  \n",
       "3                  0.00    C38997010        21182.00            0.00        1  \n",
       "4              29885.86  M1230701703            0.00            0.00        0  \n",
       "...                 ...          ...             ...             ...      ...  \n",
       "1048570       347245.65   C435674507       484329.37       616886.72        0  \n",
       "1048571        80627.64   M668364942            0.00            0.00        0  \n",
       "1048572         6404.95  M1355182933            0.00            0.00        0  \n",
       "1048573        80584.95  M1964992463            0.00            0.00        0  \n",
       "1048574        69134.92   M677577406            0.00            0.00        0  \n",
       "\n",
       "[1048575 rows x 10 columns]"
      ]
     },
     "execution_count": 102,
     "metadata": {},
     "output_type": "execute_result"
    }
   ],
   "source": [
    "df_unbalanced"
   ]
  },
  {
   "cell_type": "code",
   "execution_count": 103,
   "id": "c8ebe866-016f-4e50-95b5-d93b8ff773b0",
   "metadata": {},
   "outputs": [
    {
     "data": {
      "text/plain": [
       "Index(['step', 'type', 'amount', 'nameOrig', 'oldbalanceOrg', 'newbalanceOrig',\n",
       "       'nameDest', 'oldbalanceDest', 'newbalanceDest', 'isFraud'],\n",
       "      dtype='object')"
      ]
     },
     "execution_count": 103,
     "metadata": {},
     "output_type": "execute_result"
    }
   ],
   "source": [
    "df_unbalanced.columns"
   ]
  },
  {
   "cell_type": "code",
   "execution_count": 104,
   "id": "50bc6b3c-07b3-4842-9498-b41521d987bb",
   "metadata": {},
   "outputs": [
    {
     "data": {
      "text/plain": [
       "array([ 1,  2,  3,  4,  5,  6,  7,  8,  9, 10, 11, 12, 13, 14, 15, 16, 17,\n",
       "       18, 19, 20, 21, 22, 23, 24, 25, 26, 27, 28, 29, 30, 31, 32, 33, 34,\n",
       "       35, 36, 37, 38, 39, 40, 41, 42, 43, 44, 45, 46, 47, 48, 49, 50, 51,\n",
       "       52, 53, 54, 55, 56, 57, 58, 59, 60, 61, 62, 63, 64, 65, 66, 67, 68,\n",
       "       69, 70, 71, 72, 73, 74, 75, 76, 77, 78, 79, 80, 81, 82, 83, 84, 85,\n",
       "       86, 87, 88, 89, 90, 91, 92, 93, 94, 95], dtype=int64)"
      ]
     },
     "execution_count": 104,
     "metadata": {},
     "output_type": "execute_result"
    }
   ],
   "source": [
    "df_unbalanced['step'].unique()"
   ]
  },
  {
   "cell_type": "code",
   "execution_count": 105,
   "id": "7fe72b3c-1577-40c7-a109-d3c538cbcba3",
   "metadata": {},
   "outputs": [
    {
     "name": "stdout",
     "output_type": "stream",
     "text": [
      "isFraud\n",
      "0    1047433\n",
      "1       1142\n",
      "Name: count, dtype: int64\n"
     ]
    }
   ],
   "source": [
    "plt.style.use('ggplot')\n",
    "warnings.filterwarnings('ignore')\n",
    "print(df_unbalanced['isFraud'].value_counts())"
   ]
  },
  {
   "cell_type": "markdown",
   "id": "a5273807-e528-4101-8f35-ddba6bc1f70c",
   "metadata": {},
   "source": [
    "**The dataset is not balanced**"
   ]
  },
  {
   "cell_type": "markdown",
   "id": "d5a33b40-21e1-4846-86f2-ebbff416050a",
   "metadata": {},
   "source": [
    "Balancing the dataset "
   ]
  },
  {
   "cell_type": "code",
   "execution_count": 106,
   "id": "0ee4cf20-942e-4ab7-a88c-dfe7e5a58342",
   "metadata": {},
   "outputs": [],
   "source": [
    "df_majority = df_unbalanced[df_unbalanced['isFraud'] == 0] # seperating farud and not_fraud \n",
    "df_minority = df_unbalanced[df_unbalanced['isFraud'] == 1]\n",
    "\n",
    "df_majority_downsampled = df_majority.sample(n=1288, random_state=42) \n",
    "\n",
    "'''sample 1288 rows from the majority class to make the dataset similar \n",
    "\n",
    "to the project requirement'''\n",
    "\n",
    "\n",
    "# Combine the downsampled majority with the minority class\n",
    "df_balanced = pd.concat([df_majority_downsampled, df_minority])\n",
    "\n",
    "\n",
    "# Optionally shuffle the resulting DataFrame\n",
    "df = df_balanced.sample(frac=1, random_state=42).reset_index(drop=True) \n"
   ]
  },
  {
   "cell_type": "code",
   "execution_count": 107,
   "id": "d5e5c4d2-d327-4810-9ddd-88737e15a9e0",
   "metadata": {},
   "outputs": [
    {
     "data": {
      "text/html": [
       "<div>\n",
       "<style scoped>\n",
       "    .dataframe tbody tr th:only-of-type {\n",
       "        vertical-align: middle;\n",
       "    }\n",
       "\n",
       "    .dataframe tbody tr th {\n",
       "        vertical-align: top;\n",
       "    }\n",
       "\n",
       "    .dataframe thead th {\n",
       "        text-align: right;\n",
       "    }\n",
       "</style>\n",
       "<table border=\"1\" class=\"dataframe\">\n",
       "  <thead>\n",
       "    <tr style=\"text-align: right;\">\n",
       "      <th></th>\n",
       "      <th>step</th>\n",
       "      <th>type</th>\n",
       "      <th>amount</th>\n",
       "      <th>nameOrig</th>\n",
       "      <th>oldbalanceOrg</th>\n",
       "      <th>newbalanceOrig</th>\n",
       "      <th>nameDest</th>\n",
       "      <th>oldbalanceDest</th>\n",
       "      <th>newbalanceDest</th>\n",
       "      <th>isFraud</th>\n",
       "    </tr>\n",
       "  </thead>\n",
       "  <tbody>\n",
       "    <tr>\n",
       "      <th>0</th>\n",
       "      <td>10</td>\n",
       "      <td>PAYMENT</td>\n",
       "      <td>20794.73</td>\n",
       "      <td>C815510261</td>\n",
       "      <td>116.00</td>\n",
       "      <td>0.00</td>\n",
       "      <td>M1382693228</td>\n",
       "      <td>0.00</td>\n",
       "      <td>0.00</td>\n",
       "      <td>0</td>\n",
       "    </tr>\n",
       "    <tr>\n",
       "      <th>1</th>\n",
       "      <td>60</td>\n",
       "      <td>CASH_OUT</td>\n",
       "      <td>45807.51</td>\n",
       "      <td>C981996349</td>\n",
       "      <td>45807.51</td>\n",
       "      <td>0.00</td>\n",
       "      <td>C1099066639</td>\n",
       "      <td>267824.05</td>\n",
       "      <td>313631.56</td>\n",
       "      <td>1</td>\n",
       "    </tr>\n",
       "    <tr>\n",
       "      <th>2</th>\n",
       "      <td>39</td>\n",
       "      <td>PAYMENT</td>\n",
       "      <td>8189.26</td>\n",
       "      <td>C1612875324</td>\n",
       "      <td>50853.00</td>\n",
       "      <td>42663.74</td>\n",
       "      <td>M1964286640</td>\n",
       "      <td>0.00</td>\n",
       "      <td>0.00</td>\n",
       "      <td>0</td>\n",
       "    </tr>\n",
       "    <tr>\n",
       "      <th>3</th>\n",
       "      <td>39</td>\n",
       "      <td>CASH_OUT</td>\n",
       "      <td>128892.25</td>\n",
       "      <td>C1711392639</td>\n",
       "      <td>0.00</td>\n",
       "      <td>0.00</td>\n",
       "      <td>C1767398596</td>\n",
       "      <td>206116.00</td>\n",
       "      <td>0.00</td>\n",
       "      <td>0</td>\n",
       "    </tr>\n",
       "    <tr>\n",
       "      <th>4</th>\n",
       "      <td>77</td>\n",
       "      <td>CASH_OUT</td>\n",
       "      <td>5715004.30</td>\n",
       "      <td>C1519833841</td>\n",
       "      <td>5715004.30</td>\n",
       "      <td>0.00</td>\n",
       "      <td>C1856760155</td>\n",
       "      <td>318309.23</td>\n",
       "      <td>6033313.53</td>\n",
       "      <td>1</td>\n",
       "    </tr>\n",
       "    <tr>\n",
       "      <th>...</th>\n",
       "      <td>...</td>\n",
       "      <td>...</td>\n",
       "      <td>...</td>\n",
       "      <td>...</td>\n",
       "      <td>...</td>\n",
       "      <td>...</td>\n",
       "      <td>...</td>\n",
       "      <td>...</td>\n",
       "      <td>...</td>\n",
       "      <td>...</td>\n",
       "    </tr>\n",
       "    <tr>\n",
       "      <th>2425</th>\n",
       "      <td>33</td>\n",
       "      <td>CASH_OUT</td>\n",
       "      <td>3295227.84</td>\n",
       "      <td>C1587398978</td>\n",
       "      <td>3295227.84</td>\n",
       "      <td>0.00</td>\n",
       "      <td>C1560573396</td>\n",
       "      <td>0.00</td>\n",
       "      <td>4002861.53</td>\n",
       "      <td>1</td>\n",
       "    </tr>\n",
       "    <tr>\n",
       "      <th>2426</th>\n",
       "      <td>45</td>\n",
       "      <td>CASH_IN</td>\n",
       "      <td>90016.84</td>\n",
       "      <td>C1739014367</td>\n",
       "      <td>21234.00</td>\n",
       "      <td>111250.84</td>\n",
       "      <td>C1947527507</td>\n",
       "      <td>1691662.88</td>\n",
       "      <td>1601646.04</td>\n",
       "      <td>0</td>\n",
       "    </tr>\n",
       "    <tr>\n",
       "      <th>2427</th>\n",
       "      <td>42</td>\n",
       "      <td>CASH_OUT</td>\n",
       "      <td>55963.20</td>\n",
       "      <td>C1284017456</td>\n",
       "      <td>10919.00</td>\n",
       "      <td>0.00</td>\n",
       "      <td>C2087603149</td>\n",
       "      <td>0.00</td>\n",
       "      <td>55963.20</td>\n",
       "      <td>0</td>\n",
       "    </tr>\n",
       "    <tr>\n",
       "      <th>2428</th>\n",
       "      <td>1</td>\n",
       "      <td>CASH_OUT</td>\n",
       "      <td>416001.33</td>\n",
       "      <td>C749981943</td>\n",
       "      <td>0.00</td>\n",
       "      <td>0.00</td>\n",
       "      <td>C667346055</td>\n",
       "      <td>102.00</td>\n",
       "      <td>9291619.62</td>\n",
       "      <td>1</td>\n",
       "    </tr>\n",
       "    <tr>\n",
       "      <th>2429</th>\n",
       "      <td>34</td>\n",
       "      <td>CASH_OUT</td>\n",
       "      <td>59536.86</td>\n",
       "      <td>C1509935835</td>\n",
       "      <td>104530.00</td>\n",
       "      <td>44993.14</td>\n",
       "      <td>C996035587</td>\n",
       "      <td>1782602.61</td>\n",
       "      <td>1854012.53</td>\n",
       "      <td>0</td>\n",
       "    </tr>\n",
       "  </tbody>\n",
       "</table>\n",
       "<p>2430 rows × 10 columns</p>\n",
       "</div>"
      ],
      "text/plain": [
       "      step      type      amount     nameOrig  oldbalanceOrg  newbalanceOrig  \\\n",
       "0       10   PAYMENT    20794.73   C815510261         116.00            0.00   \n",
       "1       60  CASH_OUT    45807.51   C981996349       45807.51            0.00   \n",
       "2       39   PAYMENT     8189.26  C1612875324       50853.00        42663.74   \n",
       "3       39  CASH_OUT   128892.25  C1711392639           0.00            0.00   \n",
       "4       77  CASH_OUT  5715004.30  C1519833841     5715004.30            0.00   \n",
       "...    ...       ...         ...          ...            ...             ...   \n",
       "2425    33  CASH_OUT  3295227.84  C1587398978     3295227.84            0.00   \n",
       "2426    45   CASH_IN    90016.84  C1739014367       21234.00       111250.84   \n",
       "2427    42  CASH_OUT    55963.20  C1284017456       10919.00            0.00   \n",
       "2428     1  CASH_OUT   416001.33   C749981943           0.00            0.00   \n",
       "2429    34  CASH_OUT    59536.86  C1509935835      104530.00        44993.14   \n",
       "\n",
       "         nameDest  oldbalanceDest  newbalanceDest  isFraud  \n",
       "0     M1382693228            0.00            0.00        0  \n",
       "1     C1099066639       267824.05       313631.56        1  \n",
       "2     M1964286640            0.00            0.00        0  \n",
       "3     C1767398596       206116.00            0.00        0  \n",
       "4     C1856760155       318309.23      6033313.53        1  \n",
       "...           ...             ...             ...      ...  \n",
       "2425  C1560573396            0.00      4002861.53        1  \n",
       "2426  C1947527507      1691662.88      1601646.04        0  \n",
       "2427  C2087603149            0.00        55963.20        0  \n",
       "2428   C667346055          102.00      9291619.62        1  \n",
       "2429   C996035587      1782602.61      1854012.53        0  \n",
       "\n",
       "[2430 rows x 10 columns]"
      ]
     },
     "execution_count": 107,
     "metadata": {},
     "output_type": "execute_result"
    }
   ],
   "source": [
    "df # display final dataset with balanced classes"
   ]
  },
  {
   "cell_type": "code",
   "execution_count": 108,
   "id": "b55bf8f1-a4d0-475f-b245-c7dce3a58d04",
   "metadata": {},
   "outputs": [
    {
     "data": {
      "text/plain": [
       "isFraud\n",
       "0    1288\n",
       "1    1142\n",
       "Name: count, dtype: int64"
      ]
     },
     "execution_count": 108,
     "metadata": {},
     "output_type": "execute_result"
    }
   ],
   "source": [
    "df['isFraud'].value_counts() "
   ]
  },
  {
   "cell_type": "code",
   "execution_count": 109,
   "id": "631baf33-4871-478a-8092-889a4559bb84",
   "metadata": {},
   "outputs": [],
   "source": [
    "df_numdata = df.select_dtypes(include='number')\n",
    "\n",
    "correlation_matrix = df_numdata.corr()  # correlation matrix only takes numeric data, hence filtering non numeric values\n"
   ]
  },
  {
   "cell_type": "code",
   "execution_count": 110,
   "id": "771d1c42-e0ea-4934-b04d-f52144d02d53",
   "metadata": {},
   "outputs": [
    {
     "data": {
      "text/html": [
       "<div>\n",
       "<style scoped>\n",
       "    .dataframe tbody tr th:only-of-type {\n",
       "        vertical-align: middle;\n",
       "    }\n",
       "\n",
       "    .dataframe tbody tr th {\n",
       "        vertical-align: top;\n",
       "    }\n",
       "\n",
       "    .dataframe thead th {\n",
       "        text-align: right;\n",
       "    }\n",
       "</style>\n",
       "<table border=\"1\" class=\"dataframe\">\n",
       "  <thead>\n",
       "    <tr style=\"text-align: right;\">\n",
       "      <th></th>\n",
       "      <th>step</th>\n",
       "      <th>amount</th>\n",
       "      <th>oldbalanceOrg</th>\n",
       "      <th>newbalanceOrig</th>\n",
       "      <th>oldbalanceDest</th>\n",
       "      <th>newbalanceDest</th>\n",
       "      <th>isFraud</th>\n",
       "    </tr>\n",
       "  </thead>\n",
       "  <tbody>\n",
       "    <tr>\n",
       "      <th>step</th>\n",
       "      <td>1.000000</td>\n",
       "      <td>0.238987</td>\n",
       "      <td>0.060930</td>\n",
       "      <td>-0.097938</td>\n",
       "      <td>-0.067304</td>\n",
       "      <td>0.000398</td>\n",
       "      <td>0.434458</td>\n",
       "    </tr>\n",
       "    <tr>\n",
       "      <th>amount</th>\n",
       "      <td>0.238987</td>\n",
       "      <td>1.000000</td>\n",
       "      <td>0.520731</td>\n",
       "      <td>-0.029674</td>\n",
       "      <td>-0.016854</td>\n",
       "      <td>0.289458</td>\n",
       "      <td>0.345850</td>\n",
       "    </tr>\n",
       "    <tr>\n",
       "      <th>oldbalanceOrg</th>\n",
       "      <td>0.060930</td>\n",
       "      <td>0.520731</td>\n",
       "      <td>1.000000</td>\n",
       "      <td>0.833966</td>\n",
       "      <td>0.073563</td>\n",
       "      <td>0.192289</td>\n",
       "      <td>0.051832</td>\n",
       "    </tr>\n",
       "    <tr>\n",
       "      <th>newbalanceOrig</th>\n",
       "      <td>-0.097938</td>\n",
       "      <td>-0.029674</td>\n",
       "      <td>0.833966</td>\n",
       "      <td>1.000000</td>\n",
       "      <td>0.115453</td>\n",
       "      <td>0.058419</td>\n",
       "      <td>-0.192257</td>\n",
       "    </tr>\n",
       "    <tr>\n",
       "      <th>oldbalanceDest</th>\n",
       "      <td>-0.067304</td>\n",
       "      <td>-0.016854</td>\n",
       "      <td>0.073563</td>\n",
       "      <td>0.115453</td>\n",
       "      <td>1.000000</td>\n",
       "      <td>0.884497</td>\n",
       "      <td>-0.129028</td>\n",
       "    </tr>\n",
       "    <tr>\n",
       "      <th>newbalanceDest</th>\n",
       "      <td>0.000398</td>\n",
       "      <td>0.289458</td>\n",
       "      <td>0.192289</td>\n",
       "      <td>0.058419</td>\n",
       "      <td>0.884497</td>\n",
       "      <td>1.000000</td>\n",
       "      <td>-0.010683</td>\n",
       "    </tr>\n",
       "    <tr>\n",
       "      <th>isFraud</th>\n",
       "      <td>0.434458</td>\n",
       "      <td>0.345850</td>\n",
       "      <td>0.051832</td>\n",
       "      <td>-0.192257</td>\n",
       "      <td>-0.129028</td>\n",
       "      <td>-0.010683</td>\n",
       "      <td>1.000000</td>\n",
       "    </tr>\n",
       "  </tbody>\n",
       "</table>\n",
       "</div>"
      ],
      "text/plain": [
       "                    step    amount  oldbalanceOrg  newbalanceOrig  \\\n",
       "step            1.000000  0.238987       0.060930       -0.097938   \n",
       "amount          0.238987  1.000000       0.520731       -0.029674   \n",
       "oldbalanceOrg   0.060930  0.520731       1.000000        0.833966   \n",
       "newbalanceOrig -0.097938 -0.029674       0.833966        1.000000   \n",
       "oldbalanceDest -0.067304 -0.016854       0.073563        0.115453   \n",
       "newbalanceDest  0.000398  0.289458       0.192289        0.058419   \n",
       "isFraud         0.434458  0.345850       0.051832       -0.192257   \n",
       "\n",
       "                oldbalanceDest  newbalanceDest   isFraud  \n",
       "step                 -0.067304        0.000398  0.434458  \n",
       "amount               -0.016854        0.289458  0.345850  \n",
       "oldbalanceOrg         0.073563        0.192289  0.051832  \n",
       "newbalanceOrig        0.115453        0.058419 -0.192257  \n",
       "oldbalanceDest        1.000000        0.884497 -0.129028  \n",
       "newbalanceDest        0.884497        1.000000 -0.010683  \n",
       "isFraud              -0.129028       -0.010683  1.000000  "
      ]
     },
     "execution_count": 110,
     "metadata": {},
     "output_type": "execute_result"
    }
   ],
   "source": [
    "correlation_matrix"
   ]
  },
  {
   "cell_type": "code",
   "execution_count": 111,
   "id": "19d3c761-11ff-44f4-a374-e3b5edd3c78a",
   "metadata": {},
   "outputs": [
    {
     "data": {
      "text/plain": [
       "<Axes: >"
      ]
     },
     "execution_count": 111,
     "metadata": {},
     "output_type": "execute_result"
    },
    {
     "data": {
      "image/png": "[encoded data removed]",
      "text/plain": [
       "<Figure size 640x480 with 2 Axes>"
      ]
     },
     "metadata": {},
     "output_type": "display_data"
    }
   ],
   "source": [
    "sns.heatmap(correlation_matrix, annot = True)"
   ]
  },
  {
   "cell_type": "markdown",
   "id": "0acbac75-ff22-4f93-955d-672be593ef19",
   "metadata": {},
   "source": [
    "----------"
   ]
  },
  {
   "cell_type": "markdown",
   "id": "5a4d164b-27d4-4c3a-948b-fc779ab2c337",
   "metadata": {},
   "source": [
    "**EDA**"
   ]
  },
  {
   "cell_type": "code",
   "execution_count": 112,
   "id": "f823f9a0-1135-49c0-bc4d-a6c385c4cdf0",
   "metadata": {},
   "outputs": [
    {
     "name": "stdout",
     "output_type": "stream",
     "text": [
      "nameDest\n",
      "C681692677     2\n",
      "C1013511446    2\n",
      "C52390890      2\n",
      "C1827219533    2\n",
      "C1073409712    2\n",
      "              ..\n",
      "C750661006     1\n",
      "M1973052189    1\n",
      "C332249974     1\n",
      "C825022387     1\n",
      "C996035587     1\n",
      "Name: count, Length: 2409, dtype: int64\n",
      "isFraud\n",
      "0    1288\n",
      "1    1142\n",
      "Name: count, dtype: int64\n"
     ]
    },
    {
     "data": {
      "image/png": "[encoded data removed]",
      "text/plain": [
       "<Figure size 640x480 with 1 Axes>"
      ]
     },
     "metadata": {},
     "output_type": "display_data"
    },
    {
     "data": {
      "image/png": "[encoded data removed]",
      "text/plain": [
       "<Figure size 640x480 with 1 Axes>"
      ]
     },
     "metadata": {},
     "output_type": "display_data"
    },
    {
     "data": {
      "image/png": "[encoded data removed]",
      "text/plain": [
       "<Figure size 640x480 with 1 Axes>"
      ]
     },
     "metadata": {},
     "output_type": "display_data"
    },
    {
     "data": {
      "image/png": "[encoded data removed]",
      "text/plain": [
       "<Figure size 640x480 with 1 Axes>"
      ]
     },
     "metadata": {},
     "output_type": "display_data"
    },
    {
     "data": {
      "image/png": "[encoded data removed]",
      "text/plain": [
       "<Figure size 640x480 with 1 Axes>"
      ]
     },
     "metadata": {},
     "output_type": "display_data"
    },
    {
     "data": {
      "image/png": "[encoded data removed]",
      "text/plain": [
       "<Figure size 640x480 with 1 Axes>"
      ]
     },
     "metadata": {},
     "output_type": "display_data"
    },
    {
     "data": {
      "image/png": "[encoded data removed]",
      "text/plain": [
       "<Figure size 640x480 with 1 Axes>"
      ]
     },
     "metadata": {},
     "output_type": "display_data"
    },
    {
     "data": {
      "image/png": "[encoded data removed]",
      "text/plain": [
       "<Figure size 640x480 with 1 Axes>"
      ]
     },
     "metadata": {},
     "output_type": "display_data"
    },
    {
     "data": {
      "image/png": "[encoded data removed]",
      "text/plain": [
       "<Figure size 640x480 with 1 Axes>"
      ]
     },
     "metadata": {},
     "output_type": "display_data"
    }
   ],
   "source": [
    "plt.figure(1)\n",
    "plt.title(\"Histogram plot\")\n",
    "sns.histplot(data= df, x = 'step')\n",
    "\n",
    "plt.figure(2)\n",
    "plt.title(\"Box plot\")\n",
    "sns.boxplot(data= df, x = 'step')\n",
    "\n",
    "plt.figure(3)\n",
    "plt.title(\"Count plot\")\n",
    "sns.countplot(data= df, x = 'type')\n",
    "\n",
    "plt.figure(4)\n",
    "plt.title(\"Histogram plot- amonut \")\n",
    "sns.histplot(data= df, x = 'amount')\n",
    "\n",
    "plt.figure(5)\n",
    "plt.title(\"Box plot- amount \")\n",
    "sns.boxplot(data= df, x = 'amount')\n",
    "\n",
    "plt.figure(6)\n",
    "plt.title(\"oldbalanceOrg \")\n",
    "sns.histplot(data= df, x = 'oldbalanceOrg')\n",
    "\n",
    "plt.figure(7)\n",
    "plt.title(\"oldbalanceDest \")\n",
    "sns.boxplot(data= df, x = 'oldbalanceDest')\n",
    "\n",
    "plt.figure(8)\n",
    "plt.title(\"newbalanceDest \")\n",
    "sns.boxplot(data= df, x = 'newbalanceDest')\n",
    "\n",
    "plt.figure(9)\n",
    "plt.title(\"Fraud - not fraud split \")\n",
    "sns.countplot(data= df, x = 'isFraud')\n",
    "\n",
    "\n",
    "print(df['nameDest'].value_counts())\n",
    "print(df['isFraud'].value_counts())"
   ]
  },
  {
   "cell_type": "code",
   "execution_count": 113,
   "id": "6c0654da-7d7b-4449-976c-791b2ac47715",
   "metadata": {},
   "outputs": [],
   "source": [
    "df.loc[df['isFraud']==0,'isFraud']  = ' is not Fraud '\n",
    "df.loc[df['isFraud']==1,'isFraud']  = '  Fraud '"
   ]
  },
  {
   "cell_type": "code",
   "execution_count": 114,
   "id": "a3be08af-dd8c-4637-b403-e7fdef7d67e6",
   "metadata": {},
   "outputs": [
    {
     "data": {
      "text/plain": [
       "0        is not Fraud \n",
       "1               Fraud \n",
       "2        is not Fraud \n",
       "3        is not Fraud \n",
       "4               Fraud \n",
       "             ...      \n",
       "2425            Fraud \n",
       "2426     is not Fraud \n",
       "2427     is not Fraud \n",
       "2428            Fraud \n",
       "2429     is not Fraud \n",
       "Name: isFraud, Length: 2430, dtype: object"
      ]
     },
     "execution_count": 114,
     "metadata": {},
     "output_type": "execute_result"
    }
   ],
   "source": [
    "df['isFraud']"
   ]
  },
  {
   "cell_type": "code",
   "execution_count": 115,
   "id": "ead5b123-ad1c-43fc-9d8b-6036f3762080",
   "metadata": {},
   "outputs": [
    {
     "data": {
      "text/plain": [
       "<seaborn.axisgrid.JointGrid at 0x1a787a12bd0>"
      ]
     },
     "execution_count": 115,
     "metadata": {},
     "output_type": "execute_result"
    },
    {
     "data": {
      "image/png": "[encoded data removed]",
      "text/plain": [
       "<Figure size 600x600 with 3 Axes>"
      ]
     },
     "metadata": {},
     "output_type": "display_data"
    }
   ],
   "source": [
    "sns.jointplot(data = df, x=\"newbalanceDest\", y = 'isFraud')"
   ]
  },
  {
   "cell_type": "code",
   "execution_count": 116,
   "id": "e409e101-f9f1-4d24-a5e1-1aff57b6d34c",
   "metadata": {},
   "outputs": [
    {
     "data": {
      "text/plain": [
       "<Axes: xlabel='type', ylabel='count'>"
      ]
     },
     "execution_count": 116,
     "metadata": {},
     "output_type": "execute_result"
    },
    {
     "data": {
      "image/png": "[encoded data removed]",
      "text/plain": [
       "<Figure size 640x480 with 1 Axes>"
      ]
     },
     "metadata": {},
     "output_type": "display_data"
    }
   ],
   "source": [
    "sns.countplot(data = df, x= 'type', hue = 'isFraud')"
   ]
  },
  {
   "cell_type": "code",
   "execution_count": 117,
   "id": "e7f2bd55-bcb7-4916-b524-05a10128f342",
   "metadata": {},
   "outputs": [
    {
     "data": {
      "text/plain": [
       "<Axes: xlabel='isFraud', ylabel='step'>"
      ]
     },
     "execution_count": 117,
     "metadata": {},
     "output_type": "execute_result"
    },
    {
     "data": {
      "image/png": "[encoded data removed]",
      "text/plain": [
       "<Figure size 640x480 with 1 Axes>"
      ]
     },
     "metadata": {},
     "output_type": "display_data"
    }
   ],
   "source": [
    "sns.boxplot(data = df, x='isFraud' , y = 'step')"
   ]
  },
  {
   "cell_type": "code",
   "execution_count": 118,
   "id": "dc4e60ee-6088-4add-80df-702c08d745b7",
   "metadata": {},
   "outputs": [
    {
     "data": {
      "text/plain": [
       "<Axes: xlabel='isFraud', ylabel='amount'>"
      ]
     },
     "execution_count": 118,
     "metadata": {},
     "output_type": "execute_result"
    },
    {
     "data": {
      "image/png": "[encoded data removed]",
      "text/plain": [
       "<Figure size 640x480 with 1 Axes>"
      ]
     },
     "metadata": {},
     "output_type": "display_data"
    }
   ],
   "source": [
    "sns.boxplot(data = df, x='isFraud' , y = 'amount')"
   ]
  },
  {
   "cell_type": "code",
   "execution_count": 119,
   "id": "d3c32210-f40c-4111-bde9-fb926315b2a1",
   "metadata": {},
   "outputs": [
    {
     "data": {
      "text/plain": [
       "<Axes: xlabel='isFraud', ylabel='oldbalanceOrg'>"
      ]
     },
     "execution_count": 119,
     "metadata": {},
     "output_type": "execute_result"
    },
    {
     "data": {
      "image/png": "[encoded data removed]",
      "text/plain": [
       "<Figure size 640x480 with 1 Axes>"
      ]
     },
     "metadata": {},
     "output_type": "display_data"
    }
   ],
   "source": [
    "sns.boxplot(data = df, x='isFraud' , y = 'oldbalanceOrg')"
   ]
  },
  {
   "cell_type": "code",
   "execution_count": 120,
   "id": "0e11e5e2-e35f-47d0-874b-d4547c42a06d",
   "metadata": {},
   "outputs": [
    {
     "data": {
      "text/plain": [
       "<Axes: xlabel='isFraud', ylabel='newbalanceOrig'>"
      ]
     },
     "execution_count": 120,
     "metadata": {},
     "output_type": "execute_result"
    },
    {
     "data": {
      "image/png": "[encoded data removed]",
      "text/plain": [
       "<Figure size 640x480 with 1 Axes>"
      ]
     },
     "metadata": {},
     "output_type": "display_data"
    }
   ],
   "source": [
    "sns.boxplot(data = df, x='isFraud' , y = 'newbalanceOrig')"
   ]
  },
  {
   "cell_type": "code",
   "execution_count": 121,
   "id": "2483ae9c-09c7-4f42-8261-dc2c13da4d7f",
   "metadata": {},
   "outputs": [
    {
     "data": {
      "text/plain": [
       "<Axes: xlabel='isFraud', ylabel='oldbalanceDest'>"
      ]
     },
     "execution_count": 121,
     "metadata": {},
     "output_type": "execute_result"
    },
    {
     "data": {
      "image/png": "[encoded data removed]",
      "text/plain": [
       "<Figure size 640x480 with 1 Axes>"
      ]
     },
     "metadata": {},
     "output_type": "display_data"
    }
   ],
   "source": [
    "sns.violinplot(data = df, x='isFraud', y='oldbalanceDest')"
   ]
  },
  {
   "cell_type": "code",
   "execution_count": 122,
   "id": "012430c2-4378-41f4-9945-f9e8949cb308",
   "metadata": {},
   "outputs": [
    {
     "data": {
      "text/plain": [
       "<Axes: xlabel='isFraud', ylabel='newbalanceDest'>"
      ]
     },
     "execution_count": 122,
     "metadata": {},
     "output_type": "execute_result"
    },
    {
     "data": {
      "image/png": "[encoded data removed]",
      "text/plain": [
       "<Figure size 640x480 with 1 Axes>"
      ]
     },
     "metadata": {},
     "output_type": "display_data"
    }
   ],
   "source": [
    "sns.violinplot(data = df, x='isFraud', y='newbalanceDest')"
   ]
  },
  {
   "cell_type": "code",
   "execution_count": 123,
   "id": "8f819d14-0083-4938-97de-8686cf2465e4",
   "metadata": {},
   "outputs": [
    {
     "data": {
      "text/html": [
       "<div>\n",
       "<style scoped>\n",
       "    .dataframe tbody tr th:only-of-type {\n",
       "        vertical-align: middle;\n",
       "    }\n",
       "\n",
       "    .dataframe tbody tr th {\n",
       "        vertical-align: top;\n",
       "    }\n",
       "\n",
       "    .dataframe thead th {\n",
       "        text-align: right;\n",
       "    }\n",
       "</style>\n",
       "<table border=\"1\" class=\"dataframe\">\n",
       "  <thead>\n",
       "    <tr style=\"text-align: right;\">\n",
       "      <th></th>\n",
       "      <th>step</th>\n",
       "      <th>type</th>\n",
       "      <th>amount</th>\n",
       "      <th>nameOrig</th>\n",
       "      <th>oldbalanceOrg</th>\n",
       "      <th>newbalanceOrig</th>\n",
       "      <th>nameDest</th>\n",
       "      <th>oldbalanceDest</th>\n",
       "      <th>newbalanceDest</th>\n",
       "      <th>isFraud</th>\n",
       "    </tr>\n",
       "  </thead>\n",
       "  <tbody>\n",
       "    <tr>\n",
       "      <th>count</th>\n",
       "      <td>2430.000000</td>\n",
       "      <td>2430</td>\n",
       "      <td>2.430000e+03</td>\n",
       "      <td>2430</td>\n",
       "      <td>2.430000e+03</td>\n",
       "      <td>2.430000e+03</td>\n",
       "      <td>2430</td>\n",
       "      <td>2.430000e+03</td>\n",
       "      <td>2.430000e+03</td>\n",
       "      <td>2430</td>\n",
       "    </tr>\n",
       "    <tr>\n",
       "      <th>unique</th>\n",
       "      <td>NaN</td>\n",
       "      <td>5</td>\n",
       "      <td>NaN</td>\n",
       "      <td>2430</td>\n",
       "      <td>NaN</td>\n",
       "      <td>NaN</td>\n",
       "      <td>2409</td>\n",
       "      <td>NaN</td>\n",
       "      <td>NaN</td>\n",
       "      <td>2</td>\n",
       "    </tr>\n",
       "    <tr>\n",
       "      <th>top</th>\n",
       "      <td>NaN</td>\n",
       "      <td>CASH_OUT</td>\n",
       "      <td>NaN</td>\n",
       "      <td>C815510261</td>\n",
       "      <td>NaN</td>\n",
       "      <td>NaN</td>\n",
       "      <td>C681692677</td>\n",
       "      <td>NaN</td>\n",
       "      <td>NaN</td>\n",
       "      <td>is not Fraud</td>\n",
       "    </tr>\n",
       "    <tr>\n",
       "      <th>freq</th>\n",
       "      <td>NaN</td>\n",
       "      <td>1055</td>\n",
       "      <td>NaN</td>\n",
       "      <td>1</td>\n",
       "      <td>NaN</td>\n",
       "      <td>NaN</td>\n",
       "      <td>2</td>\n",
       "      <td>NaN</td>\n",
       "      <td>NaN</td>\n",
       "      <td>1288</td>\n",
       "    </tr>\n",
       "    <tr>\n",
       "      <th>mean</th>\n",
       "      <td>37.106996</td>\n",
       "      <td>NaN</td>\n",
       "      <td>6.428548e+05</td>\n",
       "      <td>NaN</td>\n",
       "      <td>1.067389e+06</td>\n",
       "      <td>5.189144e+05</td>\n",
       "      <td>NaN</td>\n",
       "      <td>7.416584e+05</td>\n",
       "      <td>1.106117e+06</td>\n",
       "      <td>NaN</td>\n",
       "    </tr>\n",
       "    <tr>\n",
       "      <th>std</th>\n",
       "      <td>24.204088</td>\n",
       "      <td>NaN</td>\n",
       "      <td>1.497136e+06</td>\n",
       "      <td>NaN</td>\n",
       "      <td>2.748249e+06</td>\n",
       "      <td>2.375727e+06</td>\n",
       "      <td>NaN</td>\n",
       "      <td>2.107973e+06</td>\n",
       "      <td>2.484056e+06</td>\n",
       "      <td>NaN</td>\n",
       "    </tr>\n",
       "    <tr>\n",
       "      <th>min</th>\n",
       "      <td>1.000000</td>\n",
       "      <td>NaN</td>\n",
       "      <td>7.048000e+01</td>\n",
       "      <td>NaN</td>\n",
       "      <td>0.000000e+00</td>\n",
       "      <td>0.000000e+00</td>\n",
       "      <td>NaN</td>\n",
       "      <td>0.000000e+00</td>\n",
       "      <td>0.000000e+00</td>\n",
       "      <td>NaN</td>\n",
       "    </tr>\n",
       "    <tr>\n",
       "      <th>25%</th>\n",
       "      <td>16.250000</td>\n",
       "      <td>NaN</td>\n",
       "      <td>2.676850e+04</td>\n",
       "      <td>NaN</td>\n",
       "      <td>9.005000e+03</td>\n",
       "      <td>0.000000e+00</td>\n",
       "      <td>NaN</td>\n",
       "      <td>0.000000e+00</td>\n",
       "      <td>0.000000e+00</td>\n",
       "      <td>NaN</td>\n",
       "    </tr>\n",
       "    <tr>\n",
       "      <th>50%</th>\n",
       "      <td>35.000000</td>\n",
       "      <td>NaN</td>\n",
       "      <td>1.464063e+05</td>\n",
       "      <td>NaN</td>\n",
       "      <td>9.669176e+04</td>\n",
       "      <td>0.000000e+00</td>\n",
       "      <td>NaN</td>\n",
       "      <td>0.000000e+00</td>\n",
       "      <td>1.293258e+05</td>\n",
       "      <td>NaN</td>\n",
       "    </tr>\n",
       "    <tr>\n",
       "      <th>75%</th>\n",
       "      <td>47.750000</td>\n",
       "      <td>NaN</td>\n",
       "      <td>4.346831e+05</td>\n",
       "      <td>NaN</td>\n",
       "      <td>6.669726e+05</td>\n",
       "      <td>0.000000e+00</td>\n",
       "      <td>NaN</td>\n",
       "      <td>5.106548e+05</td>\n",
       "      <td>1.088262e+06</td>\n",
       "      <td>NaN</td>\n",
       "    </tr>\n",
       "    <tr>\n",
       "      <th>max</th>\n",
       "      <td>95.000000</td>\n",
       "      <td>NaN</td>\n",
       "      <td>1.000000e+07</td>\n",
       "      <td>NaN</td>\n",
       "      <td>2.950000e+07</td>\n",
       "      <td>2.960000e+07</td>\n",
       "      <td>NaN</td>\n",
       "      <td>3.430000e+07</td>\n",
       "      <td>3.460000e+07</td>\n",
       "      <td>NaN</td>\n",
       "    </tr>\n",
       "  </tbody>\n",
       "</table>\n",
       "</div>"
      ],
      "text/plain": [
       "               step      type        amount    nameOrig  oldbalanceOrg  \\\n",
       "count   2430.000000      2430  2.430000e+03        2430   2.430000e+03   \n",
       "unique          NaN         5           NaN        2430            NaN   \n",
       "top             NaN  CASH_OUT           NaN  C815510261            NaN   \n",
       "freq            NaN      1055           NaN           1            NaN   \n",
       "mean      37.106996       NaN  6.428548e+05         NaN   1.067389e+06   \n",
       "std       24.204088       NaN  1.497136e+06         NaN   2.748249e+06   \n",
       "min        1.000000       NaN  7.048000e+01         NaN   0.000000e+00   \n",
       "25%       16.250000       NaN  2.676850e+04         NaN   9.005000e+03   \n",
       "50%       35.000000       NaN  1.464063e+05         NaN   9.669176e+04   \n",
       "75%       47.750000       NaN  4.346831e+05         NaN   6.669726e+05   \n",
       "max       95.000000       NaN  1.000000e+07         NaN   2.950000e+07   \n",
       "\n",
       "        newbalanceOrig    nameDest  oldbalanceDest  newbalanceDest  \\\n",
       "count     2.430000e+03        2430    2.430000e+03    2.430000e+03   \n",
       "unique             NaN        2409             NaN             NaN   \n",
       "top                NaN  C681692677             NaN             NaN   \n",
       "freq               NaN           2             NaN             NaN   \n",
       "mean      5.189144e+05         NaN    7.416584e+05    1.106117e+06   \n",
       "std       2.375727e+06         NaN    2.107973e+06    2.484056e+06   \n",
       "min       0.000000e+00         NaN    0.000000e+00    0.000000e+00   \n",
       "25%       0.000000e+00         NaN    0.000000e+00    0.000000e+00   \n",
       "50%       0.000000e+00         NaN    0.000000e+00    1.293258e+05   \n",
       "75%       0.000000e+00         NaN    5.106548e+05    1.088262e+06   \n",
       "max       2.960000e+07         NaN    3.430000e+07    3.460000e+07   \n",
       "\n",
       "               isFraud  \n",
       "count             2430  \n",
       "unique               2  \n",
       "top      is not Fraud   \n",
       "freq              1288  \n",
       "mean               NaN  \n",
       "std                NaN  \n",
       "min                NaN  \n",
       "25%                NaN  \n",
       "50%                NaN  \n",
       "75%                NaN  \n",
       "max                NaN  "
      ]
     },
     "execution_count": 123,
     "metadata": {},
     "output_type": "execute_result"
    }
   ],
   "source": [
    "df.describe(include ='all')"
   ]
  },
  {
   "cell_type": "code",
   "execution_count": 124,
   "id": "5bd714e0-c5da-4e29-8abe-5fb9cedb8c02",
   "metadata": {},
   "outputs": [
    {
     "data": {
      "text/plain": [
       "step              0\n",
       "type              0\n",
       "amount            0\n",
       "nameOrig          0\n",
       "oldbalanceOrg     0\n",
       "newbalanceOrig    0\n",
       "nameDest          0\n",
       "oldbalanceDest    0\n",
       "newbalanceDest    0\n",
       "isFraud           0\n",
       "dtype: int64"
      ]
     },
     "execution_count": 124,
     "metadata": {},
     "output_type": "execute_result"
    }
   ],
   "source": [
    "df.isnull().sum()"
   ]
  },
  {
   "cell_type": "code",
   "execution_count": 125,
   "id": "f8956fb0-185d-4dd9-9324-c85118a0cc67",
   "metadata": {},
   "outputs": [
    {
     "name": "stdout",
     "output_type": "stream",
     "text": [
      "<class 'pandas.core.frame.DataFrame'>\n",
      "RangeIndex: 2430 entries, 0 to 2429\n",
      "Data columns (total 10 columns):\n",
      " #   Column          Non-Null Count  Dtype  \n",
      "---  ------          --------------  -----  \n",
      " 0   step            2430 non-null   int64  \n",
      " 1   type            2430 non-null   object \n",
      " 2   amount          2430 non-null   float64\n",
      " 3   nameOrig        2430 non-null   object \n",
      " 4   oldbalanceOrg   2430 non-null   float64\n",
      " 5   newbalanceOrig  2430 non-null   float64\n",
      " 6   nameDest        2430 non-null   object \n",
      " 7   oldbalanceDest  2430 non-null   float64\n",
      " 8   newbalanceDest  2430 non-null   float64\n",
      " 9   isFraud         2430 non-null   object \n",
      "dtypes: float64(5), int64(1), object(4)\n",
      "memory usage: 190.0+ KB\n"
     ]
    }
   ],
   "source": [
    "df.info()"
   ]
  },
  {
   "cell_type": "code",
   "execution_count": 126,
   "id": "d2372241-6b1b-4904-8f88-100830ae73b5",
   "metadata": {},
   "outputs": [
    {
     "data": {
      "text/plain": [
       "<Axes: ylabel='amount'>"
      ]
     },
     "execution_count": 126,
     "metadata": {},
     "output_type": "execute_result"
    },
    {
     "data": {
      "image/png": "[encoded data removed]",
      "text/plain": [
       "<Figure size 640x480 with 1 Axes>"
      ]
     },
     "metadata": {},
     "output_type": "display_data"
    }
   ],
   "source": [
    "sns.boxplot(df['amount'])"
   ]
  },
  {
   "cell_type": "code",
   "execution_count": 127,
   "id": "c885647b-4542-48d3-93cd-05a1f68acdd9",
   "metadata": {},
   "outputs": [
    {
     "name": "stdout",
     "output_type": "stream",
     "text": [
      "ModeResult(mode=10000000.0, count=14)\n",
      "642854.8372674896\n"
     ]
    }
   ],
   "source": [
    "from scipy import stats\n",
    "print (stats.mode(df['amount']))\n",
    "print (np.mean(df['amount']))"
   ]
  },
  {
   "cell_type": "code",
   "execution_count": 128,
   "id": "b9670448-7ef2-4fd8-80ab-2b32c260d7d4",
   "metadata": {},
   "outputs": [
    {
     "name": "stdout",
     "output_type": "stream",
     "text": [
      "q1: 26768.5\n",
      "q3: 434683.07\n",
      "IQR: 407914.57\n",
      "Lower Bound: -585103.355\n",
      "Upper Bound: 1046554.925\n",
      "Skewed data: 332\n",
      "Skewed data: 0\n"
     ]
    },
    {
     "data": {
      "image/png": "[encoded data removed]",
      "text/plain": [
       "<Figure size 1200x500 with 2 Axes>"
      ]
     },
     "metadata": {},
     "output_type": "display_data"
    }
   ],
   "source": [
    "q1 = np.quantile(df['amount'],0.25)\n",
    "q3 = np.quantile(df['amount'],0.75)\n",
    "\n",
    "IQR = q3-q1\n",
    "upper_bound = q3+(1.5*IQR)\n",
    "lower_bound = q1-(1.5*IQR)\n",
    "\n",
    "print(\"q1:\",q1)\n",
    "print(\"q3:\",q3)\n",
    "print(\"IQR:\",IQR)\n",
    "print(\"Lower Bound:\",lower_bound)\n",
    "print(\"Upper Bound:\",upper_bound)\n",
    "print(\"Skewed data:\",len(df[df['amount']>upper_bound]))\n",
    "print(\"Skewed data:\",len(df[df['amount']<lower_bound]))\n",
    "\n",
    "def transformationPlot(feature):\n",
    "    plt.figure(figsize = (12,5))\n",
    "    plt.subplot(1,2,1)\n",
    "    sns.distplot(feature)\n",
    "    plt.subplot(1,2,2)\n",
    "    stats.probplot(feature, plot=plt)\n",
    "\n",
    "\n",
    "transformationPlot(np.log(df['amount']))\n",
    "\n",
    "df['amount'] = np.log(df['amount'])\n"
   ]
  },
  {
   "cell_type": "code",
   "execution_count": 129,
   "id": "8731a5a5-36cd-492d-bb3c-de7acd61b45f",
   "metadata": {},
   "outputs": [
    {
     "data": {
      "text/html": [
       "<div>\n",
       "<style scoped>\n",
       "    .dataframe tbody tr th:only-of-type {\n",
       "        vertical-align: middle;\n",
       "    }\n",
       "\n",
       "    .dataframe tbody tr th {\n",
       "        vertical-align: top;\n",
       "    }\n",
       "\n",
       "    .dataframe thead th {\n",
       "        text-align: right;\n",
       "    }\n",
       "</style>\n",
       "<table border=\"1\" class=\"dataframe\">\n",
       "  <thead>\n",
       "    <tr style=\"text-align: right;\">\n",
       "      <th></th>\n",
       "      <th>step</th>\n",
       "      <th>type</th>\n",
       "      <th>amount</th>\n",
       "      <th>nameOrig</th>\n",
       "      <th>oldbalanceOrg</th>\n",
       "      <th>newbalanceOrig</th>\n",
       "      <th>nameDest</th>\n",
       "      <th>oldbalanceDest</th>\n",
       "      <th>newbalanceDest</th>\n",
       "      <th>isFraud</th>\n",
       "    </tr>\n",
       "  </thead>\n",
       "  <tbody>\n",
       "    <tr>\n",
       "      <th>0</th>\n",
       "      <td>10</td>\n",
       "      <td>PAYMENT</td>\n",
       "      <td>9.942455</td>\n",
       "      <td>C815510261</td>\n",
       "      <td>116.00</td>\n",
       "      <td>0.00</td>\n",
       "      <td>M1382693228</td>\n",
       "      <td>0.00</td>\n",
       "      <td>0.00</td>\n",
       "      <td>is not Fraud</td>\n",
       "    </tr>\n",
       "    <tr>\n",
       "      <th>1</th>\n",
       "      <td>60</td>\n",
       "      <td>CASH_OUT</td>\n",
       "      <td>10.732203</td>\n",
       "      <td>C981996349</td>\n",
       "      <td>45807.51</td>\n",
       "      <td>0.00</td>\n",
       "      <td>C1099066639</td>\n",
       "      <td>267824.05</td>\n",
       "      <td>313631.56</td>\n",
       "      <td>Fraud</td>\n",
       "    </tr>\n",
       "    <tr>\n",
       "      <th>2</th>\n",
       "      <td>39</td>\n",
       "      <td>PAYMENT</td>\n",
       "      <td>9.010579</td>\n",
       "      <td>C1612875324</td>\n",
       "      <td>50853.00</td>\n",
       "      <td>42663.74</td>\n",
       "      <td>M1964286640</td>\n",
       "      <td>0.00</td>\n",
       "      <td>0.00</td>\n",
       "      <td>is not Fraud</td>\n",
       "    </tr>\n",
       "    <tr>\n",
       "      <th>3</th>\n",
       "      <td>39</td>\n",
       "      <td>CASH_OUT</td>\n",
       "      <td>11.766732</td>\n",
       "      <td>C1711392639</td>\n",
       "      <td>0.00</td>\n",
       "      <td>0.00</td>\n",
       "      <td>C1767398596</td>\n",
       "      <td>206116.00</td>\n",
       "      <td>0.00</td>\n",
       "      <td>is not Fraud</td>\n",
       "    </tr>\n",
       "    <tr>\n",
       "      <th>4</th>\n",
       "      <td>77</td>\n",
       "      <td>CASH_OUT</td>\n",
       "      <td>15.558606</td>\n",
       "      <td>C1519833841</td>\n",
       "      <td>5715004.30</td>\n",
       "      <td>0.00</td>\n",
       "      <td>C1856760155</td>\n",
       "      <td>318309.23</td>\n",
       "      <td>6033313.53</td>\n",
       "      <td>Fraud</td>\n",
       "    </tr>\n",
       "    <tr>\n",
       "      <th>...</th>\n",
       "      <td>...</td>\n",
       "      <td>...</td>\n",
       "      <td>...</td>\n",
       "      <td>...</td>\n",
       "      <td>...</td>\n",
       "      <td>...</td>\n",
       "      <td>...</td>\n",
       "      <td>...</td>\n",
       "      <td>...</td>\n",
       "      <td>...</td>\n",
       "    </tr>\n",
       "    <tr>\n",
       "      <th>2425</th>\n",
       "      <td>33</td>\n",
       "      <td>CASH_OUT</td>\n",
       "      <td>15.007986</td>\n",
       "      <td>C1587398978</td>\n",
       "      <td>3295227.84</td>\n",
       "      <td>0.00</td>\n",
       "      <td>C1560573396</td>\n",
       "      <td>0.00</td>\n",
       "      <td>4002861.53</td>\n",
       "      <td>Fraud</td>\n",
       "    </tr>\n",
       "    <tr>\n",
       "      <th>2426</th>\n",
       "      <td>45</td>\n",
       "      <td>CASH_IN</td>\n",
       "      <td>11.407752</td>\n",
       "      <td>C1739014367</td>\n",
       "      <td>21234.00</td>\n",
       "      <td>111250.84</td>\n",
       "      <td>C1947527507</td>\n",
       "      <td>1691662.88</td>\n",
       "      <td>1601646.04</td>\n",
       "      <td>is not Fraud</td>\n",
       "    </tr>\n",
       "    <tr>\n",
       "      <th>2427</th>\n",
       "      <td>42</td>\n",
       "      <td>CASH_OUT</td>\n",
       "      <td>10.932450</td>\n",
       "      <td>C1284017456</td>\n",
       "      <td>10919.00</td>\n",
       "      <td>0.00</td>\n",
       "      <td>C2087603149</td>\n",
       "      <td>0.00</td>\n",
       "      <td>55963.20</td>\n",
       "      <td>is not Fraud</td>\n",
       "    </tr>\n",
       "    <tr>\n",
       "      <th>2428</th>\n",
       "      <td>1</td>\n",
       "      <td>CASH_OUT</td>\n",
       "      <td>12.938444</td>\n",
       "      <td>C749981943</td>\n",
       "      <td>0.00</td>\n",
       "      <td>0.00</td>\n",
       "      <td>C667346055</td>\n",
       "      <td>102.00</td>\n",
       "      <td>9291619.62</td>\n",
       "      <td>Fraud</td>\n",
       "    </tr>\n",
       "    <tr>\n",
       "      <th>2429</th>\n",
       "      <td>34</td>\n",
       "      <td>CASH_OUT</td>\n",
       "      <td>10.994351</td>\n",
       "      <td>C1509935835</td>\n",
       "      <td>104530.00</td>\n",
       "      <td>44993.14</td>\n",
       "      <td>C996035587</td>\n",
       "      <td>1782602.61</td>\n",
       "      <td>1854012.53</td>\n",
       "      <td>is not Fraud</td>\n",
       "    </tr>\n",
       "  </tbody>\n",
       "</table>\n",
       "<p>2430 rows × 10 columns</p>\n",
       "</div>"
      ],
      "text/plain": [
       "      step      type     amount     nameOrig  oldbalanceOrg  newbalanceOrig  \\\n",
       "0       10   PAYMENT   9.942455   C815510261         116.00            0.00   \n",
       "1       60  CASH_OUT  10.732203   C981996349       45807.51            0.00   \n",
       "2       39   PAYMENT   9.010579  C1612875324       50853.00        42663.74   \n",
       "3       39  CASH_OUT  11.766732  C1711392639           0.00            0.00   \n",
       "4       77  CASH_OUT  15.558606  C1519833841     5715004.30            0.00   \n",
       "...    ...       ...        ...          ...            ...             ...   \n",
       "2425    33  CASH_OUT  15.007986  C1587398978     3295227.84            0.00   \n",
       "2426    45   CASH_IN  11.407752  C1739014367       21234.00       111250.84   \n",
       "2427    42  CASH_OUT  10.932450  C1284017456       10919.00            0.00   \n",
       "2428     1  CASH_OUT  12.938444   C749981943           0.00            0.00   \n",
       "2429    34  CASH_OUT  10.994351  C1509935835      104530.00        44993.14   \n",
       "\n",
       "         nameDest  oldbalanceDest  newbalanceDest         isFraud  \n",
       "0     M1382693228            0.00            0.00   is not Fraud   \n",
       "1     C1099066639       267824.05       313631.56          Fraud   \n",
       "2     M1964286640            0.00            0.00   is not Fraud   \n",
       "3     C1767398596       206116.00            0.00   is not Fraud   \n",
       "4     C1856760155       318309.23      6033313.53          Fraud   \n",
       "...           ...             ...             ...             ...  \n",
       "2425  C1560573396            0.00      4002861.53          Fraud   \n",
       "2426  C1947527507      1691662.88      1601646.04   is not Fraud   \n",
       "2427  C2087603149            0.00        55963.20   is not Fraud   \n",
       "2428   C667346055          102.00      9291619.62          Fraud   \n",
       "2429   C996035587      1782602.61      1854012.53   is not Fraud   \n",
       "\n",
       "[2430 rows x 10 columns]"
      ]
     },
     "execution_count": 129,
     "metadata": {},
     "output_type": "execute_result"
    }
   ],
   "source": [
    "df\n"
   ]
  },
  {
   "cell_type": "code",
   "execution_count": 130,
   "id": "2be9919f-3263-413e-802b-fada7dfc48b7",
   "metadata": {},
   "outputs": [],
   "source": [
    "df = df.drop(['nameOrig', 'nameDest'], axis=1) # removing usless data before test - train split "
   ]
  },
  {
   "cell_type": "code",
   "execution_count": 131,
   "id": "18fe6b07-830e-4547-b4c0-0013efaa026d",
   "metadata": {},
   "outputs": [
    {
     "data": {
      "text/html": [
       "<div>\n",
       "<style scoped>\n",
       "    .dataframe tbody tr th:only-of-type {\n",
       "        vertical-align: middle;\n",
       "    }\n",
       "\n",
       "    .dataframe tbody tr th {\n",
       "        vertical-align: top;\n",
       "    }\n",
       "\n",
       "    .dataframe thead th {\n",
       "        text-align: right;\n",
       "    }\n",
       "</style>\n",
       "<table border=\"1\" class=\"dataframe\">\n",
       "  <thead>\n",
       "    <tr style=\"text-align: right;\">\n",
       "      <th></th>\n",
       "      <th>step</th>\n",
       "      <th>type</th>\n",
       "      <th>amount</th>\n",
       "      <th>oldbalanceOrg</th>\n",
       "      <th>newbalanceOrig</th>\n",
       "      <th>oldbalanceDest</th>\n",
       "      <th>newbalanceDest</th>\n",
       "      <th>isFraud</th>\n",
       "    </tr>\n",
       "  </thead>\n",
       "  <tbody>\n",
       "    <tr>\n",
       "      <th>0</th>\n",
       "      <td>10</td>\n",
       "      <td>PAYMENT</td>\n",
       "      <td>9.942455</td>\n",
       "      <td>116.00</td>\n",
       "      <td>0.00</td>\n",
       "      <td>0.00</td>\n",
       "      <td>0.00</td>\n",
       "      <td>is not Fraud</td>\n",
       "    </tr>\n",
       "    <tr>\n",
       "      <th>1</th>\n",
       "      <td>60</td>\n",
       "      <td>CASH_OUT</td>\n",
       "      <td>10.732203</td>\n",
       "      <td>45807.51</td>\n",
       "      <td>0.00</td>\n",
       "      <td>267824.05</td>\n",
       "      <td>313631.56</td>\n",
       "      <td>Fraud</td>\n",
       "    </tr>\n",
       "    <tr>\n",
       "      <th>2</th>\n",
       "      <td>39</td>\n",
       "      <td>PAYMENT</td>\n",
       "      <td>9.010579</td>\n",
       "      <td>50853.00</td>\n",
       "      <td>42663.74</td>\n",
       "      <td>0.00</td>\n",
       "      <td>0.00</td>\n",
       "      <td>is not Fraud</td>\n",
       "    </tr>\n",
       "    <tr>\n",
       "      <th>3</th>\n",
       "      <td>39</td>\n",
       "      <td>CASH_OUT</td>\n",
       "      <td>11.766732</td>\n",
       "      <td>0.00</td>\n",
       "      <td>0.00</td>\n",
       "      <td>206116.00</td>\n",
       "      <td>0.00</td>\n",
       "      <td>is not Fraud</td>\n",
       "    </tr>\n",
       "    <tr>\n",
       "      <th>4</th>\n",
       "      <td>77</td>\n",
       "      <td>CASH_OUT</td>\n",
       "      <td>15.558606</td>\n",
       "      <td>5715004.30</td>\n",
       "      <td>0.00</td>\n",
       "      <td>318309.23</td>\n",
       "      <td>6033313.53</td>\n",
       "      <td>Fraud</td>\n",
       "    </tr>\n",
       "    <tr>\n",
       "      <th>...</th>\n",
       "      <td>...</td>\n",
       "      <td>...</td>\n",
       "      <td>...</td>\n",
       "      <td>...</td>\n",
       "      <td>...</td>\n",
       "      <td>...</td>\n",
       "      <td>...</td>\n",
       "      <td>...</td>\n",
       "    </tr>\n",
       "    <tr>\n",
       "      <th>2425</th>\n",
       "      <td>33</td>\n",
       "      <td>CASH_OUT</td>\n",
       "      <td>15.007986</td>\n",
       "      <td>3295227.84</td>\n",
       "      <td>0.00</td>\n",
       "      <td>0.00</td>\n",
       "      <td>4002861.53</td>\n",
       "      <td>Fraud</td>\n",
       "    </tr>\n",
       "    <tr>\n",
       "      <th>2426</th>\n",
       "      <td>45</td>\n",
       "      <td>CASH_IN</td>\n",
       "      <td>11.407752</td>\n",
       "      <td>21234.00</td>\n",
       "      <td>111250.84</td>\n",
       "      <td>1691662.88</td>\n",
       "      <td>1601646.04</td>\n",
       "      <td>is not Fraud</td>\n",
       "    </tr>\n",
       "    <tr>\n",
       "      <th>2427</th>\n",
       "      <td>42</td>\n",
       "      <td>CASH_OUT</td>\n",
       "      <td>10.932450</td>\n",
       "      <td>10919.00</td>\n",
       "      <td>0.00</td>\n",
       "      <td>0.00</td>\n",
       "      <td>55963.20</td>\n",
       "      <td>is not Fraud</td>\n",
       "    </tr>\n",
       "    <tr>\n",
       "      <th>2428</th>\n",
       "      <td>1</td>\n",
       "      <td>CASH_OUT</td>\n",
       "      <td>12.938444</td>\n",
       "      <td>0.00</td>\n",
       "      <td>0.00</td>\n",
       "      <td>102.00</td>\n",
       "      <td>9291619.62</td>\n",
       "      <td>Fraud</td>\n",
       "    </tr>\n",
       "    <tr>\n",
       "      <th>2429</th>\n",
       "      <td>34</td>\n",
       "      <td>CASH_OUT</td>\n",
       "      <td>10.994351</td>\n",
       "      <td>104530.00</td>\n",
       "      <td>44993.14</td>\n",
       "      <td>1782602.61</td>\n",
       "      <td>1854012.53</td>\n",
       "      <td>is not Fraud</td>\n",
       "    </tr>\n",
       "  </tbody>\n",
       "</table>\n",
       "<p>2430 rows × 8 columns</p>\n",
       "</div>"
      ],
      "text/plain": [
       "      step      type     amount  oldbalanceOrg  newbalanceOrig  \\\n",
       "0       10   PAYMENT   9.942455         116.00            0.00   \n",
       "1       60  CASH_OUT  10.732203       45807.51            0.00   \n",
       "2       39   PAYMENT   9.010579       50853.00        42663.74   \n",
       "3       39  CASH_OUT  11.766732           0.00            0.00   \n",
       "4       77  CASH_OUT  15.558606     5715004.30            0.00   \n",
       "...    ...       ...        ...            ...             ...   \n",
       "2425    33  CASH_OUT  15.007986     3295227.84            0.00   \n",
       "2426    45   CASH_IN  11.407752       21234.00       111250.84   \n",
       "2427    42  CASH_OUT  10.932450       10919.00            0.00   \n",
       "2428     1  CASH_OUT  12.938444           0.00            0.00   \n",
       "2429    34  CASH_OUT  10.994351      104530.00        44993.14   \n",
       "\n",
       "      oldbalanceDest  newbalanceDest         isFraud  \n",
       "0               0.00            0.00   is not Fraud   \n",
       "1          267824.05       313631.56          Fraud   \n",
       "2               0.00            0.00   is not Fraud   \n",
       "3          206116.00            0.00   is not Fraud   \n",
       "4          318309.23      6033313.53          Fraud   \n",
       "...              ...             ...             ...  \n",
       "2425            0.00      4002861.53          Fraud   \n",
       "2426      1691662.88      1601646.04   is not Fraud   \n",
       "2427            0.00        55963.20   is not Fraud   \n",
       "2428          102.00      9291619.62          Fraud   \n",
       "2429      1782602.61      1854012.53   is not Fraud   \n",
       "\n",
       "[2430 rows x 8 columns]"
      ]
     },
     "execution_count": 131,
     "metadata": {},
     "output_type": "execute_result"
    }
   ],
   "source": [
    "df"
   ]
  },
  {
   "cell_type": "markdown",
   "id": "d21bbfcf-693c-4b17-b820-2c311f99a233",
   "metadata": {},
   "source": [
    "---------"
   ]
  },
  {
   "cell_type": "markdown",
   "id": "53b16595-22b2-41eb-abcd-f430a7f39e67",
   "metadata": {},
   "source": [
    "# **Model Training and Evaluation**"
   ]
  },
  {
   "cell_type": "code",
   "execution_count": 132,
   "id": "5c394900-dc01-4f9f-a76a-bec88657a8e6",
   "metadata": {},
   "outputs": [
    {
     "name": "stdout",
     "output_type": "stream",
     "text": [
      "Label Mapping:\n",
      "CASH_IN => 0\n",
      "CASH_OUT => 1\n",
      "DEBIT => 2\n",
      "PAYMENT => 3\n",
      "TRANSFER => 4\n"
     ]
    }
   ],
   "source": [
    "from sklearn.preprocessing import LabelEncoder \n",
    "\n",
    "la = LabelEncoder()\n",
    "df['type'] = la.fit_transform(df['type'])\n",
    "\n",
    "label_mapping = dict(zip(la.classes_, la.transform(la.classes_))) # seeing the mapping of original labels to encoded values\n",
    "print(\"Label Mapping:\")\n",
    "for label, encoded in label_mapping.items():\n",
    "    print(f\"{label} => {encoded}\")\n"
   ]
  },
  {
   "cell_type": "code",
   "execution_count": 133,
   "id": "be13a4d5-9f8b-4d07-b213-8959b2c721b3",
   "metadata": {},
   "outputs": [],
   "source": [
    "x= df.drop('isFraud', axis = 1)\n",
    "y = df['isFraud']"
   ]
  },
  {
   "cell_type": "code",
   "execution_count": 134,
   "id": "475467aa-9b77-4623-b58b-a73ad0be4e4a",
   "metadata": {},
   "outputs": [
    {
     "data": {
      "text/html": [
       "<div>\n",
       "<style scoped>\n",
       "    .dataframe tbody tr th:only-of-type {\n",
       "        vertical-align: middle;\n",
       "    }\n",
       "\n",
       "    .dataframe tbody tr th {\n",
       "        vertical-align: top;\n",
       "    }\n",
       "\n",
       "    .dataframe thead th {\n",
       "        text-align: right;\n",
       "    }\n",
       "</style>\n",
       "<table border=\"1\" class=\"dataframe\">\n",
       "  <thead>\n",
       "    <tr style=\"text-align: right;\">\n",
       "      <th></th>\n",
       "      <th>step</th>\n",
       "      <th>type</th>\n",
       "      <th>amount</th>\n",
       "      <th>oldbalanceOrg</th>\n",
       "      <th>newbalanceOrig</th>\n",
       "      <th>oldbalanceDest</th>\n",
       "      <th>newbalanceDest</th>\n",
       "    </tr>\n",
       "  </thead>\n",
       "  <tbody>\n",
       "    <tr>\n",
       "      <th>0</th>\n",
       "      <td>10</td>\n",
       "      <td>3</td>\n",
       "      <td>9.942455</td>\n",
       "      <td>116.00</td>\n",
       "      <td>0.00</td>\n",
       "      <td>0.00</td>\n",
       "      <td>0.00</td>\n",
       "    </tr>\n",
       "    <tr>\n",
       "      <th>1</th>\n",
       "      <td>60</td>\n",
       "      <td>1</td>\n",
       "      <td>10.732203</td>\n",
       "      <td>45807.51</td>\n",
       "      <td>0.00</td>\n",
       "      <td>267824.05</td>\n",
       "      <td>313631.56</td>\n",
       "    </tr>\n",
       "    <tr>\n",
       "      <th>2</th>\n",
       "      <td>39</td>\n",
       "      <td>3</td>\n",
       "      <td>9.010579</td>\n",
       "      <td>50853.00</td>\n",
       "      <td>42663.74</td>\n",
       "      <td>0.00</td>\n",
       "      <td>0.00</td>\n",
       "    </tr>\n",
       "    <tr>\n",
       "      <th>3</th>\n",
       "      <td>39</td>\n",
       "      <td>1</td>\n",
       "      <td>11.766732</td>\n",
       "      <td>0.00</td>\n",
       "      <td>0.00</td>\n",
       "      <td>206116.00</td>\n",
       "      <td>0.00</td>\n",
       "    </tr>\n",
       "    <tr>\n",
       "      <th>4</th>\n",
       "      <td>77</td>\n",
       "      <td>1</td>\n",
       "      <td>15.558606</td>\n",
       "      <td>5715004.30</td>\n",
       "      <td>0.00</td>\n",
       "      <td>318309.23</td>\n",
       "      <td>6033313.53</td>\n",
       "    </tr>\n",
       "    <tr>\n",
       "      <th>...</th>\n",
       "      <td>...</td>\n",
       "      <td>...</td>\n",
       "      <td>...</td>\n",
       "      <td>...</td>\n",
       "      <td>...</td>\n",
       "      <td>...</td>\n",
       "      <td>...</td>\n",
       "    </tr>\n",
       "    <tr>\n",
       "      <th>2425</th>\n",
       "      <td>33</td>\n",
       "      <td>1</td>\n",
       "      <td>15.007986</td>\n",
       "      <td>3295227.84</td>\n",
       "      <td>0.00</td>\n",
       "      <td>0.00</td>\n",
       "      <td>4002861.53</td>\n",
       "    </tr>\n",
       "    <tr>\n",
       "      <th>2426</th>\n",
       "      <td>45</td>\n",
       "      <td>0</td>\n",
       "      <td>11.407752</td>\n",
       "      <td>21234.00</td>\n",
       "      <td>111250.84</td>\n",
       "      <td>1691662.88</td>\n",
       "      <td>1601646.04</td>\n",
       "    </tr>\n",
       "    <tr>\n",
       "      <th>2427</th>\n",
       "      <td>42</td>\n",
       "      <td>1</td>\n",
       "      <td>10.932450</td>\n",
       "      <td>10919.00</td>\n",
       "      <td>0.00</td>\n",
       "      <td>0.00</td>\n",
       "      <td>55963.20</td>\n",
       "    </tr>\n",
       "    <tr>\n",
       "      <th>2428</th>\n",
       "      <td>1</td>\n",
       "      <td>1</td>\n",
       "      <td>12.938444</td>\n",
       "      <td>0.00</td>\n",
       "      <td>0.00</td>\n",
       "      <td>102.00</td>\n",
       "      <td>9291619.62</td>\n",
       "    </tr>\n",
       "    <tr>\n",
       "      <th>2429</th>\n",
       "      <td>34</td>\n",
       "      <td>1</td>\n",
       "      <td>10.994351</td>\n",
       "      <td>104530.00</td>\n",
       "      <td>44993.14</td>\n",
       "      <td>1782602.61</td>\n",
       "      <td>1854012.53</td>\n",
       "    </tr>\n",
       "  </tbody>\n",
       "</table>\n",
       "<p>2430 rows × 7 columns</p>\n",
       "</div>"
      ],
      "text/plain": [
       "      step  type     amount  oldbalanceOrg  newbalanceOrig  oldbalanceDest  \\\n",
       "0       10     3   9.942455         116.00            0.00            0.00   \n",
       "1       60     1  10.732203       45807.51            0.00       267824.05   \n",
       "2       39     3   9.010579       50853.00        42663.74            0.00   \n",
       "3       39     1  11.766732           0.00            0.00       206116.00   \n",
       "4       77     1  15.558606     5715004.30            0.00       318309.23   \n",
       "...    ...   ...        ...            ...             ...             ...   \n",
       "2425    33     1  15.007986     3295227.84            0.00            0.00   \n",
       "2426    45     0  11.407752       21234.00       111250.84      1691662.88   \n",
       "2427    42     1  10.932450       10919.00            0.00            0.00   \n",
       "2428     1     1  12.938444           0.00            0.00          102.00   \n",
       "2429    34     1  10.994351      104530.00        44993.14      1782602.61   \n",
       "\n",
       "      newbalanceDest  \n",
       "0               0.00  \n",
       "1          313631.56  \n",
       "2               0.00  \n",
       "3               0.00  \n",
       "4         6033313.53  \n",
       "...              ...  \n",
       "2425      4002861.53  \n",
       "2426      1601646.04  \n",
       "2427        55963.20  \n",
       "2428      9291619.62  \n",
       "2429      1854012.53  \n",
       "\n",
       "[2430 rows x 7 columns]"
      ]
     },
     "execution_count": 134,
     "metadata": {},
     "output_type": "execute_result"
    }
   ],
   "source": [
    "x"
   ]
  },
  {
   "cell_type": "code",
   "execution_count": 135,
   "id": "ac99d128-4643-4a55-b63c-983621c22790",
   "metadata": {},
   "outputs": [
    {
     "data": {
      "text/plain": [
       "0        is not Fraud \n",
       "1               Fraud \n",
       "2        is not Fraud \n",
       "3        is not Fraud \n",
       "4               Fraud \n",
       "             ...      \n",
       "2425            Fraud \n",
       "2426     is not Fraud \n",
       "2427     is not Fraud \n",
       "2428            Fraud \n",
       "2429     is not Fraud \n",
       "Name: isFraud, Length: 2430, dtype: object"
      ]
     },
     "execution_count": 135,
     "metadata": {},
     "output_type": "execute_result"
    }
   ],
   "source": [
    "y"
   ]
  },
  {
   "cell_type": "code",
   "execution_count": 136,
   "id": "0754c5c5-3cd4-4220-b652-b0e33de81e06",
   "metadata": {},
   "outputs": [
    {
     "name": "stdout",
     "output_type": "stream",
     "text": [
      "x_train shape = (1944, 7), x_test shape = (486, 7)\n",
      "y_train shape = (1944,), y_test shape = (486,)\n"
     ]
    }
   ],
   "source": [
    "from sklearn.model_selection import train_test_split\n",
    "\n",
    "x_train,x_test, y_train, y_test = train_test_split(x,y, random_state = 0, test_size = 0.2)\n",
    "\n",
    "print(f\"x_train shape = {x_train.shape}, x_test shape = {x_test.shape}\")\n",
    "print(f\"y_train shape = {y_train.shape}, y_test shape = {y_test.shape}\")"
   ]
  },
  {
   "cell_type": "markdown",
   "id": "75b25d13-3593-4d25-ba24-fca067def9d4",
   "metadata": {},
   "source": [
    "**Random Forest**"
   ]
  },
  {
   "cell_type": "code",
   "execution_count": 137,
   "id": "328903a4-9370-48b8-b74a-d24c37d22574",
   "metadata": {},
   "outputs": [
    {
     "data": {
      "text/plain": [
       "0.9732510288065843"
      ]
     },
     "execution_count": 137,
     "metadata": {},
     "output_type": "execute_result"
    }
   ],
   "source": [
    "from sklearn.ensemble import RandomForestClassifier\n",
    "from sklearn.metrics import accuracy_score\n",
    "rfc = RandomForestClassifier()\n",
    "rfc.fit(x_train, y_train)\n",
    "\n",
    "y_test_predict1 = rfc.predict(x_test)\n",
    "test_accuracy = accuracy_score(y_test,y_test_predict1)\n",
    "test_accuracy"
   ]
  },
  {
   "cell_type": "code",
   "execution_count": 138,
   "id": "2965cf23-521b-47a2-ad2a-47e8699143a4",
   "metadata": {},
   "outputs": [
    {
     "data": {
      "text/plain": [
       "1.0"
      ]
     },
     "execution_count": 138,
     "metadata": {},
     "output_type": "execute_result"
    }
   ],
   "source": [
    "y_train_predict1 = rfc.predict(x_train)\n",
    "train_accuracy = accuracy_score(y_train,y_train_predict1)\n",
    "train_accuracy"
   ]
  },
  {
   "cell_type": "code",
   "execution_count": 139,
   "id": "df2110e8-fa9c-4f47-8c8b-ca7edc0a0a14",
   "metadata": {},
   "outputs": [
    {
     "data": {
      "text/html": [
       "<div>\n",
       "<style scoped>\n",
       "    .dataframe tbody tr th:only-of-type {\n",
       "        vertical-align: middle;\n",
       "    }\n",
       "\n",
       "    .dataframe tbody tr th {\n",
       "        vertical-align: top;\n",
       "    }\n",
       "\n",
       "    .dataframe thead th {\n",
       "        text-align: right;\n",
       "    }\n",
       "</style>\n",
       "<table border=\"1\" class=\"dataframe\">\n",
       "  <thead>\n",
       "    <tr style=\"text-align: right;\">\n",
       "      <th>col_0</th>\n",
       "      <th>Fraud</th>\n",
       "      <th>is not Fraud</th>\n",
       "    </tr>\n",
       "    <tr>\n",
       "      <th>isFraud</th>\n",
       "      <th></th>\n",
       "      <th></th>\n",
       "    </tr>\n",
       "  </thead>\n",
       "  <tbody>\n",
       "    <tr>\n",
       "      <th>Fraud</th>\n",
       "      <td>215</td>\n",
       "      <td>6</td>\n",
       "    </tr>\n",
       "    <tr>\n",
       "      <th>is not Fraud</th>\n",
       "      <td>7</td>\n",
       "      <td>258</td>\n",
       "    </tr>\n",
       "  </tbody>\n",
       "</table>\n",
       "</div>"
      ],
      "text/plain": [
       "col_0           Fraud   is not Fraud \n",
       "isFraud                              \n",
       " Fraud             215              6\n",
       "is not Fraud         7            258"
      ]
     },
     "execution_count": 139,
     "metadata": {},
     "output_type": "execute_result"
    }
   ],
   "source": [
    "pd.crosstab(y_test,y_test_predict1)"
   ]
  },
  {
   "cell_type": "code",
   "execution_count": 140,
   "id": "4b1a7c65-dc8b-446d-9eb5-c9bf5fab1756",
   "metadata": {},
   "outputs": [
    {
     "name": "stdout",
     "output_type": "stream",
     "text": [
      "                precision    recall  f1-score   support\n",
      "\n",
      "        Fraud        0.97      0.97      0.97       221\n",
      " is not Fraud        0.98      0.97      0.98       265\n",
      "\n",
      "      accuracy                           0.97       486\n",
      "     macro avg       0.97      0.97      0.97       486\n",
      "  weighted avg       0.97      0.97      0.97       486\n",
      "\n"
     ]
    }
   ],
   "source": [
    "print(classification_report(y_test, y_test_predict1))"
   ]
  },
  {
   "cell_type": "markdown",
   "id": "1274f320-9bc4-4964-92b2-36c0281cabf6",
   "metadata": {},
   "source": [
    "------------\n",
    "**Decision Tree**"
   ]
  },
  {
   "cell_type": "code",
   "execution_count": 141,
   "id": "78d88500-b765-4d82-a6a2-c2ed9e270396",
   "metadata": {},
   "outputs": [
    {
     "data": {
      "text/plain": [
       "0.9382716049382716"
      ]
     },
     "execution_count": 141,
     "metadata": {},
     "output_type": "execute_result"
    }
   ],
   "source": [
    "from sklearn.tree import DecisionTreeClassifier \n",
    "dct = DecisionTreeClassifier ()\n",
    "dct.fit(x_train, y_train)\n",
    "\n",
    "y_test_predict2 = dct.predict(x_test)\n",
    "test_accuracy = accuracy_score(y_test,y_test_predict2)\n",
    "test_accuracy"
   ]
  },
  {
   "cell_type": "code",
   "execution_count": 142,
   "id": "c6a0e5e0-303b-4689-8fe1-6554a2f4af02",
   "metadata": {},
   "outputs": [
    {
     "data": {
      "text/plain": [
       "1.0"
      ]
     },
     "execution_count": 142,
     "metadata": {},
     "output_type": "execute_result"
    }
   ],
   "source": [
    "y_train_predict2 = dct.predict(x_train)\n",
    "train_accuracy = accuracy_score(y_train,y_train_predict2)\n",
    "train_accuracy"
   ]
  },
  {
   "cell_type": "code",
   "execution_count": 143,
   "id": "b2eba77d-4eba-4fb6-a292-1219e9c59f2b",
   "metadata": {},
   "outputs": [
    {
     "data": {
      "text/html": [
       "<div>\n",
       "<style scoped>\n",
       "    .dataframe tbody tr th:only-of-type {\n",
       "        vertical-align: middle;\n",
       "    }\n",
       "\n",
       "    .dataframe tbody tr th {\n",
       "        vertical-align: top;\n",
       "    }\n",
       "\n",
       "    .dataframe thead th {\n",
       "        text-align: right;\n",
       "    }\n",
       "</style>\n",
       "<table border=\"1\" class=\"dataframe\">\n",
       "  <thead>\n",
       "    <tr style=\"text-align: right;\">\n",
       "      <th>col_0</th>\n",
       "      <th>Fraud</th>\n",
       "      <th>is not Fraud</th>\n",
       "    </tr>\n",
       "    <tr>\n",
       "      <th>isFraud</th>\n",
       "      <th></th>\n",
       "      <th></th>\n",
       "    </tr>\n",
       "  </thead>\n",
       "  <tbody>\n",
       "    <tr>\n",
       "      <th>Fraud</th>\n",
       "      <td>208</td>\n",
       "      <td>13</td>\n",
       "    </tr>\n",
       "    <tr>\n",
       "      <th>is not Fraud</th>\n",
       "      <td>17</td>\n",
       "      <td>248</td>\n",
       "    </tr>\n",
       "  </tbody>\n",
       "</table>\n",
       "</div>"
      ],
      "text/plain": [
       "col_0           Fraud   is not Fraud \n",
       "isFraud                              \n",
       " Fraud             208             13\n",
       "is not Fraud        17            248"
      ]
     },
     "execution_count": 143,
     "metadata": {},
     "output_type": "execute_result"
    }
   ],
   "source": [
    "pd.crosstab(y_test,y_test_predict2)"
   ]
  },
  {
   "cell_type": "code",
   "execution_count": 144,
   "id": "4d1b683f-f8e9-4c76-986b-10a820fb249a",
   "metadata": {},
   "outputs": [
    {
     "name": "stdout",
     "output_type": "stream",
     "text": [
      "                precision    recall  f1-score   support\n",
      "\n",
      "        Fraud        0.92      0.94      0.93       221\n",
      " is not Fraud        0.95      0.94      0.94       265\n",
      "\n",
      "      accuracy                           0.94       486\n",
      "     macro avg       0.94      0.94      0.94       486\n",
      "  weighted avg       0.94      0.94      0.94       486\n",
      "\n"
     ]
    }
   ],
   "source": [
    "print(classification_report(y_test, y_test_predict2))"
   ]
  },
  {
   "cell_type": "markdown",
   "id": "26749399-71b1-4631-98d0-ba2231744022",
   "metadata": {},
   "source": [
    "--------------------\n",
    "**Extra Trees Classifier**"
   ]
  },
  {
   "cell_type": "code",
   "execution_count": 145,
   "id": "408ae390-feb5-4ce3-bdf0-bc8a227157ef",
   "metadata": {},
   "outputs": [
    {
     "name": "stdout",
     "output_type": "stream",
     "text": [
      "Test Accuracy: 0.9650\n"
     ]
    }
   ],
   "source": [
    "from sklearn.ensemble import ExtraTreesClassifier\n",
    "\n",
    "\n",
    "etc = ExtraTreesClassifier()             \n",
    "etc.fit(x_train, y_train)                \n",
    "y_test_predict3 = etc.predict(x_test)    \n",
    "test_accuracy = accuracy_score(y_test, y_test_predict3) \n",
    "print(f\"Test Accuracy: {test_accuracy:.4f}\")\n"
   ]
  },
  {
   "cell_type": "code",
   "execution_count": 146,
   "id": "01416caf-cd48-458e-94c1-9de44cf388db",
   "metadata": {},
   "outputs": [
    {
     "data": {
      "text/plain": [
       "1.0"
      ]
     },
     "execution_count": 146,
     "metadata": {},
     "output_type": "execute_result"
    }
   ],
   "source": [
    "y_train_predict3 = etc.predict(x_train)\n",
    "train_accuracy = accuracy_score(y_train,y_train_predict3)\n",
    "train_accuracy"
   ]
  },
  {
   "cell_type": "code",
   "execution_count": 147,
   "id": "8c4d1862-65c5-48ff-b6a6-a207d5d2d565",
   "metadata": {},
   "outputs": [
    {
     "data": {
      "text/html": [
       "<div>\n",
       "<style scoped>\n",
       "    .dataframe tbody tr th:only-of-type {\n",
       "        vertical-align: middle;\n",
       "    }\n",
       "\n",
       "    .dataframe tbody tr th {\n",
       "        vertical-align: top;\n",
       "    }\n",
       "\n",
       "    .dataframe thead th {\n",
       "        text-align: right;\n",
       "    }\n",
       "</style>\n",
       "<table border=\"1\" class=\"dataframe\">\n",
       "  <thead>\n",
       "    <tr style=\"text-align: right;\">\n",
       "      <th>col_0</th>\n",
       "      <th>Fraud</th>\n",
       "      <th>is not Fraud</th>\n",
       "    </tr>\n",
       "    <tr>\n",
       "      <th>isFraud</th>\n",
       "      <th></th>\n",
       "      <th></th>\n",
       "    </tr>\n",
       "  </thead>\n",
       "  <tbody>\n",
       "    <tr>\n",
       "      <th>Fraud</th>\n",
       "      <td>210</td>\n",
       "      <td>11</td>\n",
       "    </tr>\n",
       "    <tr>\n",
       "      <th>is not Fraud</th>\n",
       "      <td>6</td>\n",
       "      <td>259</td>\n",
       "    </tr>\n",
       "  </tbody>\n",
       "</table>\n",
       "</div>"
      ],
      "text/plain": [
       "col_0           Fraud   is not Fraud \n",
       "isFraud                              \n",
       " Fraud             210             11\n",
       "is not Fraud         6            259"
      ]
     },
     "execution_count": 147,
     "metadata": {},
     "output_type": "execute_result"
    }
   ],
   "source": [
    "pd.crosstab(y_test,y_test_predict3)"
   ]
  },
  {
   "cell_type": "code",
   "execution_count": 148,
   "id": "acba0afc-41a7-4efe-ba06-9a841cc5f51e",
   "metadata": {},
   "outputs": [
    {
     "name": "stdout",
     "output_type": "stream",
     "text": [
      "                precision    recall  f1-score   support\n",
      "\n",
      "        Fraud        0.97      0.95      0.96       221\n",
      " is not Fraud        0.96      0.98      0.97       265\n",
      "\n",
      "      accuracy                           0.97       486\n",
      "     macro avg       0.97      0.96      0.96       486\n",
      "  weighted avg       0.97      0.97      0.96       486\n",
      "\n"
     ]
    }
   ],
   "source": [
    "print(classification_report(y_test, y_test_predict3))"
   ]
  },
  {
   "cell_type": "markdown",
   "id": "acf97765-692a-401c-831c-6a61b14024a3",
   "metadata": {},
   "source": [
    "----------\n",
    "**Support Vector Classification**"
   ]
  },
  {
   "cell_type": "code",
   "execution_count": 149,
   "id": "d9b335c5-ef66-4e65-8036-94946052f0d3",
   "metadata": {},
   "outputs": [
    {
     "data": {
      "text/plain": [
       "0.7695473251028807"
      ]
     },
     "execution_count": 149,
     "metadata": {},
     "output_type": "execute_result"
    }
   ],
   "source": [
    "from sklearn.svm import SVC\n",
    "from sklearn.metrics import accuracy_score\n",
    "svc = SVC()\n",
    "\n",
    "svc.fit(x_train,y_train)\n",
    "y_test_predict4 = svc.predict(x_test)\n",
    "test_accuracy = accuracy_score(y_test, y_test_predict4 )\n",
    "test_accuracy"
   ]
  },
  {
   "cell_type": "code",
   "execution_count": 150,
   "id": "fbe413b8-59e3-454a-bda2-d91125e42d72",
   "metadata": {},
   "outputs": [
    {
     "data": {
      "text/plain": [
       "0.7700617283950617"
      ]
     },
     "execution_count": 150,
     "metadata": {},
     "output_type": "execute_result"
    }
   ],
   "source": [
    "y_train_predict4 = svc.predict(x_train)\n",
    "train_accuracy = accuracy_score(y_train,y_train_predict4)\n",
    "train_accuracy"
   ]
  },
  {
   "cell_type": "code",
   "execution_count": 151,
   "id": "6caec3e4-6e20-496e-ba91-ab461708bc98",
   "metadata": {},
   "outputs": [
    {
     "name": "stdout",
     "output_type": "stream",
     "text": [
      "col_0           Fraud   is not Fraud \n",
      "isFraud                              \n",
      " Fraud             111            110\n",
      "is not Fraud         2            263\n",
      "\n",
      "\n",
      "                precision    recall  f1-score   support\n",
      "\n",
      "        Fraud        0.98      0.50      0.66       221\n",
      " is not Fraud        0.71      0.99      0.82       265\n",
      "\n",
      "      accuracy                           0.77       486\n",
      "     macro avg       0.84      0.75      0.74       486\n",
      "  weighted avg       0.83      0.77      0.75       486\n",
      "\n"
     ]
    }
   ],
   "source": [
    "print(pd.crosstab(y_test,y_test_predict4))\n",
    "print('\\n')\n",
    "print(classification_report(y_test, y_test_predict4))"
   ]
  },
  {
   "cell_type": "code",
   "execution_count": 152,
   "id": "63d62be5-5dfc-458e-aa41-1b19ef316cf6",
   "metadata": {},
   "outputs": [
    {
     "name": "stdout",
     "output_type": "stream",
     "text": [
      "y-stest [1 1 1 0 0 1 0 0 1 1 1 0 0 1 1 0 1 0 0 1 1 1 0 1 0 0 1 0 1 0 1 0 1 1 1 0 1\n",
      " 1 0 1 0 1 0 1 1 1 0 1 0 1 1 0 1 0 1 1 1 0 0 0 1 0 0 1 1 0 1 1 0 0 0 1 0 0\n",
      " 0 1 1 1 0 0 1 0 0 0 1 0 0 1 1 1 1 0 1 1 1 1 1 0 1 1 1 1 0 0 1 0 0 0 1 0 0\n",
      " 0 1 0 1 1 1 0 0 0 1 1 0 1 1 1 0 0 0 1 1 1 1 1 0 0 1 0 0 1 0 1 1 1 0 0 0 0\n",
      " 0 1 0 1 0 0 0 1 1 0 1 0 0 1 0 0 1 1 1 1 1 0 1 0 0 1 1 1 0 0 1 0 1 0 0 0 1\n",
      " 1 1 1 0 1 1 0 0 1 0 0 0 0 1 0 1 1 1 1 1 1 0 0 1 1 1 1 1 1 1 1 0 0 1 1 1 0\n",
      " 1 1 1 1 1 1 1 1 1 0 0 0 1 0 0 0 1 0 1 0 1 1 0 1 0 1 0 1 1 1 0 1 0 0 1 1 0\n",
      " 0 0 0 1 1 0 0 0 0 0 0 0 0 0 1 0 1 1 0 1 0 1 1 1 0 0 0 0 1 0 1 1 0 1 0 0 0\n",
      " 0 1 1 0 0 1 1 1 0 1 1 1 1 1 1 0 0 1 1 1 1 1 1 1 0 0 0 1 0 0 1 1 1 1 0 1 1\n",
      " 1 0 0 1 0 0 1 1 1 0 1 0 1 0 1 0 1 1 1 0 0 0 1 0 0 1 1 0 1 0 0 1 0 1 1 1 0\n",
      " 0 1 1 1 0 1 1 1 1 1 1 0 0 0 0 0 0 0 1 0 1 0 0 1 0 1 0 0 0 1 0 0 1 1 1 0 0\n",
      " 0 1 1 0 0 1 0 1 1 1 1 1 1 1 1 1 1 0 0 0 0 1 1 1 0 0 0 0 1 1 0 1 1 1 1 1 0\n",
      " 1 1 0 1 1 0 1 1 0 0 0 1 1 1 1 1 1 1 0 0 0 1 1 1 1 1 1 0 0 0 1 1 0 1 0 0 1\n",
      " 1 0 0 0 1]\n",
      "\n",
      "\n",
      "y-train [0 0 1 ... 1 0 0]\n"
     ]
    }
   ],
   "source": [
    "y_train1=la.fit_transform(y_train)\n",
    "y_test1 = la.transform(y_test)\n",
    "print('y-stest',y_test1)\n",
    "print('\\n')\n",
    "print('y-train',y_train1)"
   ]
  },
  {
   "cell_type": "markdown",
   "id": "0fe3667d-4c66-45f4-bb4d-f9bfdae2a2a5",
   "metadata": {},
   "source": [
    "--------------\n",
    "**XG boost**"
   ]
  },
  {
   "cell_type": "code",
   "execution_count": 153,
   "id": "771d04e4-1833-472d-a8c2-0d58e04e3d67",
   "metadata": {},
   "outputs": [
    {
     "data": {
      "text/plain": [
       "0.9835390946502057"
      ]
     },
     "execution_count": 153,
     "metadata": {},
     "output_type": "execute_result"
    }
   ],
   "source": [
    "import xgboost as xgb\n",
    "xgb1 = xgb.XGBClassifier()\n",
    "xgb1.fit(x_train, y_train1)\n",
    "\n",
    "y_test_predict5 = xgb1.predict(x_test)\n",
    "test_accuracy = accuracy_score(y_test1, y_test_predict5 )\n",
    "test_accuracy"
   ]
  },
  {
   "cell_type": "code",
   "execution_count": 169,
   "id": "069269f9-7d37-4d63-a8e5-133156e34387",
   "metadata": {},
   "outputs": [
    {
     "name": "stdout",
     "output_type": "stream",
     "text": [
      "Prediction-xg boost: 0\n",
      "Prediction- Random forest:   Fraud \n",
      "Prediction- SVC:   Fraud \n"
     ]
    }
   ],
   "source": [
    "\n",
    "input_data = np.array([[94\t,1,\t14.190236,\t1454592.61,0.0,\t264042.92\t,1718635.53]])\n",
    "\n",
    "xg_test = xgb1.predict(input_data)\n",
    "print(\"Prediction-xg boost:\", xg_test[0])\n",
    "\n",
    "rfc_test = rfc.predict(input_data)\n",
    "print(\"Prediction- Random forest:\", rfc_test[0])\n",
    "\n",
    "svc_test = svc.predict(input_data)\n",
    "print(\"Prediction- SVC:\", svc_test[0])\n"
   ]
  },
  {
   "cell_type": "code",
   "execution_count": 155,
   "id": "4132247d-0a12-4306-b69e-d556f7aa9ca0",
   "metadata": {},
   "outputs": [
    {
     "data": {
      "text/plain": [
       "1.0"
      ]
     },
     "execution_count": 155,
     "metadata": {},
     "output_type": "execute_result"
    }
   ],
   "source": [
    "y_train_predict5 = xgb1.predict(x_train)\n",
    "train_accuracy = accuracy_score(y_train1,y_train_predict5)\n",
    "train_accuracy"
   ]
  },
  {
   "cell_type": "code",
   "execution_count": 156,
   "id": "0f94199b-a3a3-4e0e-9872-fdcfb9a08dbc",
   "metadata": {},
   "outputs": [
    {
     "name": "stdout",
     "output_type": "stream",
     "text": [
      "col_0    0    1\n",
      "row_0          \n",
      "0      217    4\n",
      "1        4  261\n",
      "\n",
      "\n",
      "              precision    recall  f1-score   support\n",
      "\n",
      "           0       0.98      0.98      0.98       221\n",
      "           1       0.98      0.98      0.98       265\n",
      "\n",
      "    accuracy                           0.98       486\n",
      "   macro avg       0.98      0.98      0.98       486\n",
      "weighted avg       0.98      0.98      0.98       486\n",
      "\n"
     ]
    }
   ],
   "source": [
    "print(pd.crosstab(y_test1,y_test_predict5))\n",
    "print('\\n')\n",
    "print(classification_report(y_test1, y_test_predict5))"
   ]
  },
  {
   "cell_type": "markdown",
   "id": "2857b827-db87-449e-8c47-8a82d3a21b0f",
   "metadata": {},
   "source": [
    "----------------\n",
    "# **Comparing Models**"
   ]
  },
  {
   "cell_type": "code",
   "execution_count": 163,
   "id": "7035baa0-a05a-4807-8c1b-80459c9cac78",
   "metadata": {},
   "outputs": [
    {
     "name": "stdout",
     "output_type": "stream",
     "text": [
      "Train Accuracy for rfc 1.0\n",
      "Test Accuracy for rfc 0.9732510288065843\n",
      "Train Accuracy for dtc 1.0\n",
      "Test Accuracy for dtc 0.9382716049382716\n",
      "Train Accuracy for etc 1.0\n",
      "Test Accuracy for etc 0.9650205761316872\n",
      "Train Accuracy for svc 0.7700617283950617\n",
      "Test Accuracy for svc 0.7695473251028807\n",
      "Train Accuracy for xgb1 1.0\n",
      "Test Accuracy for xgb1 0.9835390946502057\n"
     ]
    }
   ],
   "source": [
    "print ('Train Accuracy for rfc', accuracy_score(y_train,y_train_predict1))\n",
    "print ('Test Accuracy for rfc', accuracy_score(y_test,y_test_predict1))\n",
    "\n",
    "print ('Train Accuracy for dtc', accuracy_score(y_train,y_train_predict2))\n",
    "print ('Test Accuracy for dtc', accuracy_score(y_test,y_test_predict2))\n",
    "\n",
    "print ('Train Accuracy for etc', accuracy_score(y_train,y_train_predict3))\n",
    "print ('Test Accuracy for etc', accuracy_score(y_test,y_test_predict3))\n",
    "\n",
    "print ('Train Accuracy for svc', accuracy_score(y_train,y_train_predict4))\n",
    "print ('Test Accuracy for svc', accuracy_score(y_test,y_test_predict4))\n",
    "\n",
    "print ('Train Accuracy for xgb1', accuracy_score(y_train1,y_train_predict5))\n",
    "print ('Test Accuracy for xgb1', accuracy_score(y_test1,y_test_predict5))\n",
    "\n"
   ]
  },
  {
   "cell_type": "code",
   "execution_count": 158,
   "id": "ead1a95c-d588-4389-8fe0-df72b403c1f8",
   "metadata": {},
   "outputs": [],
   "source": [
    "import pickle\n",
    "pickle.dump(xgb1,open(\"prediction.pkl\",'wb')) # Saving XG boost model "
   ]
  },
  {
   "cell_type": "code",
   "execution_count": 170,
   "id": "272f841c-73fa-472e-9b4b-9ec85fef8945",
   "metadata": {},
   "outputs": [],
   "source": [
    "import pickle\n",
    "pickle.dump(rfc,open(\"model.pkl\",'wb')) # Saving RFC model "
   ]
  },
  {
   "cell_type": "code",
   "execution_count": null,
   "id": "65196283-9812-42a6-9799-8af4863cff02",
   "metadata": {},
   "outputs": [],
   "source": []
  }
 ],
 "metadata": {
  "kernelspec": {
   "display_name": "Python 3 (ipykernel)",
   "language": "python",
   "name": "python3"
  },
  "language_info": {
   "codemirror_mode": {
    "name": "ipython",
    "version": 3
   },
   "file_extension": ".py",
   "mimetype": "text/x-python",
   "name": "python",
   "nbconvert_exporter": "python",
   "pygments_lexer": "ipython3",
   "version": "3.12.7"
  }
 },
 "nbformat": 4,
 "nbformat_minor": 5
}

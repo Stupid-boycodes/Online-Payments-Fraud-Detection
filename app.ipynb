{
 "cells": [
  {
   "cell_type": "markdown",
   "id": "8b3c979b-d5eb-45e7-a238-897d6c8f4d5d",
   "metadata": {},
   "source": [
    "# **Flask Web Application**"
   ]
  },
  {
   "cell_type": "code",
   "execution_count": null,
   "id": "fd54cde3-e400-4e8a-8483-16970dac64ef",
   "metadata": {},
   "outputs": [],
   "source": [
    "from flask import Flask, render_template, request\n",
    "import numpy as np\n",
    "import pickle\n",
    "import pandas as pd\n",
    "\n",
    "model = pickle.load(open(r\"C:\\Users\\aarav\\Online Payments Fraud Detection\\model.pkl\", 'rb')) # Loading the trained model\n",
    "\n",
    "# Flask app initialization\n",
    "app = Flask(__name__)\n",
    "\n",
    "\n",
    "# loading html pages\n",
    "\n",
    "@app.route(\"/\")\n",
    "def about():\n",
    "    return render_template(\"home.html\")\n",
    "\n",
    "@app.route(\"/home\")\n",
    "def about1():\n",
    "    return render_template(\"home.html\")\n",
    "\n",
    "@app.route(\"/predict\")\n",
    "def home1():\n",
    "    return render_template('predict.html')\n",
    "\n",
    "@app.route(\"/pred\", methods=['POST'])\n",
    "def predict():\n",
    "    try:\n",
    "        values = [float(x) for x in request.form.values()]  # convert the inputs to float\n",
    "        x = np.array([values])  # shape (1, n)\n",
    "        pred = model.predict(x)\n",
    "\n",
    "        return render_template('submit.html', prediction_text=str(pred[0]))\n",
    "    \n",
    "    except Exception as e:\n",
    "        return f\"Something went wrong: {str(e)}\"\n",
    "\n",
    "\n",
    "if __name__ == \"__main__\":\n",
    "    app.run(debug=False)\n"
   ]
  }
 ],
 "metadata": {
  "kernelspec": {
   "display_name": "Python 3 (ipykernel)",
   "language": "python",
   "name": "python3"
  },
  "language_info": {
   "codemirror_mode": {
    "name": "ipython",
    "version": 3
   },
   "file_extension": ".py",
   "mimetype": "text/x-python",
   "name": "python",
   "nbconvert_exporter": "python",
   "pygments_lexer": "ipython3",
   "version": "3.12.7"
  }
 },
 "nbformat": 4,
 "nbformat_minor": 5
}
